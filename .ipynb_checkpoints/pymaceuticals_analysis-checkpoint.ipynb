{
 "cells": [
  {
   "cell_type": "markdown",
   "metadata": {},
   "source": [
    "## Data Analysis: Observations and Insights "
   ]
  },
  {
   "cell_type": "markdown",
   "metadata": {},
   "source": [
    "1. The Capomulin drug regimen had the lowest standard deviation at 4.994774 resulting in a tighter data cluster around the mean. The lower (or smaller) the standard deviation, the lower the data variability and the higher the reliability of the data analysis related to the Capomulin regimen.\n",
    "2. For mice on the Capomulin regimen, there appears to be a correlation between the mouse weight to average tumor volume; the larger the mouse, the larger the tumor volume, and vice versa. A p-value of 1.32257 supports a strong data correlation. Further analysis is recommended to see if the Capomulin regimen impacts the weight to volume ratio over time (e.g. does Capomulin reduce the tumor size, resulting in a reduction of mouse weight).\n",
    "3. One data outlier was removed from the dataset, dropping the overall number of mice in the study from 249 to 248. Removing the outlier did not appear to impact the overall results and had no impact on the review of the Capomulin regimen since the outlier data was for the Propriva regimen."
   ]
  },
  {
   "cell_type": "markdown",
   "metadata": {},
   "source": [
    "## Data Import"
   ]
  },
  {
   "cell_type": "code",
   "execution_count": 1,
   "metadata": {},
   "outputs": [],
   "source": [
    "# Dependencies and Setup\n",
    "import pandas as pd\n",
    "import numpy as np\n",
    "import matplotlib.pyplot as plt\n",
    "import scipy.stats as sts\n",
    "from scipy.stats import linregress\n",
    "\n",
    "# Study data files\n",
    "mouse_metadata_path = \"data/Mouse_metadata.csv\"\n",
    "study_results_path = \"data/Study_results.csv\"\n",
    "\n",
    "# Read the mouse data and the study results\n",
    "mouse_metadata = pd.read_csv(mouse_metadata_path)\n",
    "study_results = pd.read_csv(study_results_path)\n",
    "\n",
    "# Enables chart interactivity in JN\n",
    "%matplotlib inline"
   ]
  },
  {
   "cell_type": "code",
   "execution_count": 2,
   "metadata": {},
   "outputs": [
    {
     "name": "stdout",
     "output_type": "stream",
     "text": [
      "     Mouse ID Drug Regimen   Sex  Age_months  Weight (g)  Timepoint  \\\n",
      "0        k403     Ramicane  Male          21          16          0   \n",
      "1        k403     Ramicane  Male          21          16          5   \n",
      "2        k403     Ramicane  Male          21          16         10   \n",
      "3        k403     Ramicane  Male          21          16         15   \n",
      "4        k403     Ramicane  Male          21          16         20   \n",
      "...       ...          ...   ...         ...         ...        ...   \n",
      "1888     z969     Naftisol  Male           9          30         25   \n",
      "1889     z969     Naftisol  Male           9          30         30   \n",
      "1890     z969     Naftisol  Male           9          30         35   \n",
      "1891     z969     Naftisol  Male           9          30         40   \n",
      "1892     z969     Naftisol  Male           9          30         45   \n",
      "\n",
      "      Tumor Volume (mm3)  Metastatic Sites  \n",
      "0              45.000000                 0  \n",
      "1              38.825898                 0  \n",
      "2              35.014271                 1  \n",
      "3              34.223992                 1  \n",
      "4              32.997729                 1  \n",
      "...                  ...               ...  \n",
      "1888           63.145652                 2  \n",
      "1889           65.841013                 3  \n",
      "1890           69.176246                 4  \n",
      "1891           70.314904                 4  \n",
      "1892           73.867845                 4  \n",
      "\n",
      "[1893 rows x 8 columns]\n"
     ]
    }
   ],
   "source": [
    "# Combine the data into a single dataset\n",
    "# Notes: pd.merge merges two data files and uses \"Mouse ID\" fields as unique ID to tie data sets together.\n",
    "# Notes: pandas dataframe = \"all_data_df\" so pull data and do analysis from this Pandas data set.\n",
    "# Notes: Outer join = return all rows from both tables, join from left table using keys that match to the right.\n",
    "\n",
    "## DATAFRAME\n",
    "all_data_df = pd.merge(mouse_metadata, study_results, how=\"outer\", on=[\"Mouse ID\", \"Mouse ID\"])\n",
    "#all_data_df.head()\n",
    "print(all_data_df)\n",
    "\n",
    "# Display the data table for preview"
   ]
  },
  {
   "cell_type": "markdown",
   "metadata": {},
   "source": [
    "### Data Clean"
   ]
  },
  {
   "cell_type": "code",
   "execution_count": 3,
   "metadata": {},
   "outputs": [
    {
     "name": "stdout",
     "output_type": "stream",
     "text": [
      "249\n"
     ]
    }
   ],
   "source": [
    "# Checking the number of mice based on Mouse ID\n",
    "# Note: # total mice = 249\n",
    "\n",
    "## VARIABLE\n",
    "total_mice_df = len(all_data_df[\"Mouse ID\"].unique())\n",
    "print (total_mice_df)"
   ]
  },
  {
   "cell_type": "code",
   "execution_count": 4,
   "metadata": {},
   "outputs": [
    {
     "data": {
      "text/plain": [
       "g989    13\n",
       "b742    10\n",
       "a644    10\n",
       "w575    10\n",
       "q787    10\n",
       "        ..\n",
       "f932     1\n",
       "x226     1\n",
       "t573     1\n",
       "o848     1\n",
       "l872     1\n",
       "Name: Mouse ID, Length: 249, dtype: int64"
      ]
     },
     "execution_count": 4,
     "metadata": {},
     "output_type": "execute_result"
    }
   ],
   "source": [
    "# Count the number of times the value of Mouse ID is listed using .value.counts (vs just .counts)\n",
    "# Most should have a count of 1-10 timepoints. Anything higher indicates duplicate timepoint data\n",
    "all_data_df[\"Mouse ID\"].value_counts()"
   ]
  },
  {
   "cell_type": "code",
   "execution_count": 5,
   "metadata": {},
   "outputs": [
    {
     "data": {
      "text/html": [
       "<div>\n",
       "<style scoped>\n",
       "    .dataframe tbody tr th:only-of-type {\n",
       "        vertical-align: middle;\n",
       "    }\n",
       "\n",
       "    .dataframe tbody tr th {\n",
       "        vertical-align: top;\n",
       "    }\n",
       "\n",
       "    .dataframe thead th {\n",
       "        text-align: right;\n",
       "    }\n",
       "</style>\n",
       "<table border=\"1\" class=\"dataframe\">\n",
       "  <thead>\n",
       "    <tr style=\"text-align: right;\">\n",
       "      <th></th>\n",
       "      <th>Drug Regimen</th>\n",
       "      <th>Sex</th>\n",
       "      <th>Age_months</th>\n",
       "      <th>Weight (g)</th>\n",
       "      <th>Timepoint</th>\n",
       "      <th>Tumor Volume (mm3)</th>\n",
       "      <th>Metastatic Sites</th>\n",
       "    </tr>\n",
       "    <tr>\n",
       "      <th>Mouse ID</th>\n",
       "      <th></th>\n",
       "      <th></th>\n",
       "      <th></th>\n",
       "      <th></th>\n",
       "      <th></th>\n",
       "      <th></th>\n",
       "      <th></th>\n",
       "    </tr>\n",
       "  </thead>\n",
       "  <tbody>\n",
       "    <tr>\n",
       "      <th>g989</th>\n",
       "      <td>Propriva</td>\n",
       "      <td>Female</td>\n",
       "      <td>21</td>\n",
       "      <td>26</td>\n",
       "      <td>0</td>\n",
       "      <td>45.000000</td>\n",
       "      <td>0</td>\n",
       "    </tr>\n",
       "    <tr>\n",
       "      <th>g989</th>\n",
       "      <td>Propriva</td>\n",
       "      <td>Female</td>\n",
       "      <td>21</td>\n",
       "      <td>26</td>\n",
       "      <td>0</td>\n",
       "      <td>45.000000</td>\n",
       "      <td>0</td>\n",
       "    </tr>\n",
       "    <tr>\n",
       "      <th>g989</th>\n",
       "      <td>Propriva</td>\n",
       "      <td>Female</td>\n",
       "      <td>21</td>\n",
       "      <td>26</td>\n",
       "      <td>5</td>\n",
       "      <td>48.786801</td>\n",
       "      <td>0</td>\n",
       "    </tr>\n",
       "    <tr>\n",
       "      <th>g989</th>\n",
       "      <td>Propriva</td>\n",
       "      <td>Female</td>\n",
       "      <td>21</td>\n",
       "      <td>26</td>\n",
       "      <td>5</td>\n",
       "      <td>47.570392</td>\n",
       "      <td>0</td>\n",
       "    </tr>\n",
       "    <tr>\n",
       "      <th>g989</th>\n",
       "      <td>Propriva</td>\n",
       "      <td>Female</td>\n",
       "      <td>21</td>\n",
       "      <td>26</td>\n",
       "      <td>10</td>\n",
       "      <td>51.745156</td>\n",
       "      <td>0</td>\n",
       "    </tr>\n",
       "  </tbody>\n",
       "</table>\n",
       "</div>"
      ],
      "text/plain": [
       "         Drug Regimen     Sex  Age_months  Weight (g)  Timepoint  \\\n",
       "Mouse ID                                                           \n",
       "g989         Propriva  Female          21          26          0   \n",
       "g989         Propriva  Female          21          26          0   \n",
       "g989         Propriva  Female          21          26          5   \n",
       "g989         Propriva  Female          21          26          5   \n",
       "g989         Propriva  Female          21          26         10   \n",
       "\n",
       "          Tumor Volume (mm3)  Metastatic Sites  \n",
       "Mouse ID                                        \n",
       "g989               45.000000                 0  \n",
       "g989               45.000000                 0  \n",
       "g989               48.786801                 0  \n",
       "g989               47.570392                 0  \n",
       "g989               51.745156                 0  "
      ]
     },
     "execution_count": 5,
     "metadata": {},
     "output_type": "execute_result"
    }
   ],
   "source": [
    "# OPTION A (see option B at end for alternate code)\n",
    "# Get all the data for the duplicate mouse ID. \n",
    "# Note: This looks for g989 in Mouse ID and assigns it to \"badmice\".\n",
    "bad_mice_data_df = all_data_df.set_index(\"Mouse ID\")\n",
    "badmice_df = bad_mice_data_df.loc[\"g989\", :]\n",
    "badmice_df.head()"
   ]
  },
  {
   "cell_type": "code",
   "execution_count": 6,
   "metadata": {},
   "outputs": [],
   "source": [
    "# Remove bad mouse data from entire (all_data_df) and create a new clean dataframe (all_data_clean_df).\n",
    "# Note: # mice = 248 - and mouse G989 is still in the bucket but the duplicate data is gone.\n",
    "\n",
    "clean_data_mice_df = bad_mice_data_df.drop(index = \"g989\")\n",
    "all_data_clean_df = clean_data_mice_df.reset_index()\n",
    "\n",
    "#all_data_clean_df.head()\n",
    "#print (all_data_clean_df)"
   ]
  },
  {
   "cell_type": "code",
   "execution_count": 7,
   "metadata": {},
   "outputs": [
    {
     "name": "stdout",
     "output_type": "stream",
     "text": [
      "248\n"
     ]
    }
   ],
   "source": [
    "# Counts number of \"clean mice\" in the new dataframe (all_data_clean_df)\n",
    "# Note: # total mice = 249 | clean mice = 248\n",
    "clean_mice_df = len(all_data_clean_df[\"Mouse ID\"].unique())\n",
    "print (clean_mice_df)"
   ]
  },
  {
   "cell_type": "markdown",
   "metadata": {},
   "source": [
    "## Summary Statistics"
   ]
  },
  {
   "cell_type": "code",
   "execution_count": 8,
   "metadata": {},
   "outputs": [
    {
     "data": {
      "text/html": [
       "<div>\n",
       "<style scoped>\n",
       "    .dataframe tbody tr th:only-of-type {\n",
       "        vertical-align: middle;\n",
       "    }\n",
       "\n",
       "    .dataframe tbody tr th {\n",
       "        vertical-align: top;\n",
       "    }\n",
       "\n",
       "    .dataframe thead th {\n",
       "        text-align: right;\n",
       "    }\n",
       "</style>\n",
       "<table border=\"1\" class=\"dataframe\">\n",
       "  <thead>\n",
       "    <tr style=\"text-align: right;\">\n",
       "      <th></th>\n",
       "      <th>Mean</th>\n",
       "      <th>Median</th>\n",
       "      <th>Variance</th>\n",
       "      <th>Standard Deviation</th>\n",
       "      <th>SEM (Std Error)</th>\n",
       "    </tr>\n",
       "    <tr>\n",
       "      <th>Drug Regimen</th>\n",
       "      <th></th>\n",
       "      <th></th>\n",
       "      <th></th>\n",
       "      <th></th>\n",
       "      <th></th>\n",
       "    </tr>\n",
       "  </thead>\n",
       "  <tbody>\n",
       "    <tr>\n",
       "      <th>Capomulin</th>\n",
       "      <td>40.675741</td>\n",
       "      <td>41.557809</td>\n",
       "      <td>24.947764</td>\n",
       "      <td>4.994774</td>\n",
       "      <td>0.329346</td>\n",
       "    </tr>\n",
       "    <tr>\n",
       "      <th>Ceftamin</th>\n",
       "      <td>52.591172</td>\n",
       "      <td>51.776157</td>\n",
       "      <td>39.290177</td>\n",
       "      <td>6.268188</td>\n",
       "      <td>0.469821</td>\n",
       "    </tr>\n",
       "    <tr>\n",
       "      <th>Infubinol</th>\n",
       "      <td>52.884795</td>\n",
       "      <td>51.820584</td>\n",
       "      <td>43.128684</td>\n",
       "      <td>6.567243</td>\n",
       "      <td>0.492236</td>\n",
       "    </tr>\n",
       "    <tr>\n",
       "      <th>Ketapril</th>\n",
       "      <td>55.235638</td>\n",
       "      <td>53.698743</td>\n",
       "      <td>68.553577</td>\n",
       "      <td>8.279709</td>\n",
       "      <td>0.603860</td>\n",
       "    </tr>\n",
       "    <tr>\n",
       "      <th>Naftisol</th>\n",
       "      <td>54.331565</td>\n",
       "      <td>52.509285</td>\n",
       "      <td>66.173479</td>\n",
       "      <td>8.134708</td>\n",
       "      <td>0.596466</td>\n",
       "    </tr>\n",
       "    <tr>\n",
       "      <th>Placebo</th>\n",
       "      <td>54.033581</td>\n",
       "      <td>52.288934</td>\n",
       "      <td>61.168083</td>\n",
       "      <td>7.821003</td>\n",
       "      <td>0.581331</td>\n",
       "    </tr>\n",
       "    <tr>\n",
       "      <th>Propriva</th>\n",
       "      <td>52.320930</td>\n",
       "      <td>50.446266</td>\n",
       "      <td>43.852013</td>\n",
       "      <td>6.622085</td>\n",
       "      <td>0.544332</td>\n",
       "    </tr>\n",
       "    <tr>\n",
       "      <th>Ramicane</th>\n",
       "      <td>40.216745</td>\n",
       "      <td>40.673236</td>\n",
       "      <td>23.486704</td>\n",
       "      <td>4.846308</td>\n",
       "      <td>0.320955</td>\n",
       "    </tr>\n",
       "    <tr>\n",
       "      <th>Stelasyn</th>\n",
       "      <td>54.233149</td>\n",
       "      <td>52.431737</td>\n",
       "      <td>59.450562</td>\n",
       "      <td>7.710419</td>\n",
       "      <td>0.573111</td>\n",
       "    </tr>\n",
       "    <tr>\n",
       "      <th>Zoniferol</th>\n",
       "      <td>53.236507</td>\n",
       "      <td>51.818479</td>\n",
       "      <td>48.533355</td>\n",
       "      <td>6.966589</td>\n",
       "      <td>0.516398</td>\n",
       "    </tr>\n",
       "  </tbody>\n",
       "</table>\n",
       "</div>"
      ],
      "text/plain": [
       "                   Mean     Median   Variance  Standard Deviation  \\\n",
       "Drug Regimen                                                        \n",
       "Capomulin     40.675741  41.557809  24.947764            4.994774   \n",
       "Ceftamin      52.591172  51.776157  39.290177            6.268188   \n",
       "Infubinol     52.884795  51.820584  43.128684            6.567243   \n",
       "Ketapril      55.235638  53.698743  68.553577            8.279709   \n",
       "Naftisol      54.331565  52.509285  66.173479            8.134708   \n",
       "Placebo       54.033581  52.288934  61.168083            7.821003   \n",
       "Propriva      52.320930  50.446266  43.852013            6.622085   \n",
       "Ramicane      40.216745  40.673236  23.486704            4.846308   \n",
       "Stelasyn      54.233149  52.431737  59.450562            7.710419   \n",
       "Zoniferol     53.236507  51.818479  48.533355            6.966589   \n",
       "\n",
       "              SEM (Std Error)  \n",
       "Drug Regimen                   \n",
       "Capomulin            0.329346  \n",
       "Ceftamin             0.469821  \n",
       "Infubinol            0.492236  \n",
       "Ketapril             0.603860  \n",
       "Naftisol             0.596466  \n",
       "Placebo              0.581331  \n",
       "Propriva             0.544332  \n",
       "Ramicane             0.320955  \n",
       "Stelasyn             0.573111  \n",
       "Zoniferol            0.516398  "
      ]
     },
     "execution_count": 8,
     "metadata": {},
     "output_type": "execute_result"
    }
   ],
   "source": [
    "# Generate a summary statistics table of mean, median, variance, standard deviation, \n",
    "# and SEM (standard error) of the tumor volume for each regimen\n",
    "\n",
    "# Use groupby and summary statistical methods to calculate the \n",
    "# following properties of each drug regimen: \n",
    "# mean, median, variance, standard deviation, and SEM of the tumor volume. \n",
    "# Assemble the resulting series into a single summary dataframe.\n",
    "\n",
    "summarydrug_df = all_data_clean_df.groupby(\"Drug Regimen\")\n",
    "#summarydrug.head()\n",
    "\n",
    "# Variables for data\n",
    "tumor_mean = summarydrug_df [\"Tumor Volume (mm3)\"].mean()\n",
    "tumor_median = summarydrug_df [\"Tumor Volume (mm3)\"].median()\n",
    "tumor_variance = summarydrug_df [\"Tumor Volume (mm3)\"].var()\n",
    "tumor_std = summarydrug_df [\"Tumor Volume (mm3)\"].std()\n",
    "tumor_sem = summarydrug_df [\"Tumor Volume (mm3)\"].sem()\n",
    "\n",
    "\n",
    "# Summarization\n",
    "summary_tumor_vol = pd.DataFrame({\"Mean\": tumor_mean, \n",
    "                                  \"Median\": tumor_median,\n",
    "                                  \"Variance\": tumor_variance,\n",
    "                                  \"Standard Deviation\": tumor_std, \n",
    "                                  \"SEM (Std Error)\": tumor_sem})\n",
    "\n",
    "summary_tumor_vol.head(10)"
   ]
  },
  {
   "cell_type": "markdown",
   "metadata": {},
   "source": [
    "## Bar and Pie Charts"
   ]
  },
  {
   "cell_type": "code",
   "execution_count": 9,
   "metadata": {},
   "outputs": [
    {
     "data": {
      "image/png": "[encoded data removed]",
      "text/plain": [
       "<Figure size 432x288 with 1 Axes>"
      ]
     },
     "metadata": {
      "needs_background": "light"
     },
     "output_type": "display_data"
    }
   ],
   "source": [
    "# Generate a bar plot showing the total number of measurements taken on each drug regimen.\n",
    "# Note: PANDAS bar with pandas.dataframe.plot()\n",
    "# Formatting options: Width = width of bars, zorder = brings lines to front (bars) or back (gridlines)\n",
    "\n",
    "# Identify data\n",
    "bar_plot = all_data_clean_df[\"Drug Regimen\"].value_counts().plot.bar(width=.8, zorder=3)\n",
    "\n",
    "# Format chart\n",
    "bar_plot.set_xlabel(\"Drug Regimen\")\n",
    "bar_plot.set_ylabel(\"# Measurements\")\n",
    "bar_plot.set_title(\"Measurements for Each Drug Regimen\")\n",
    "\n",
    "# Save chart image (optional)\n",
    "# Note: put this before plt.show otherwise image will save as black box.\n",
    "plt.savefig(\"images/bar_pandas.png\")\n",
    "\n",
    "# Display chart\n",
    "bar_plot.grid(zorder=0)\n"
   ]
  },
  {
   "cell_type": "code",
   "execution_count": 10,
   "metadata": {},
   "outputs": [
    {
     "data": {
      "image/png": "[encoded data removed]",
      "text/plain": [
       "<Figure size 432x288 with 1 Axes>"
      ]
     },
     "metadata": {
      "needs_background": "light"
     },
     "output_type": "display_data"
    }
   ],
   "source": [
    "# Generate a bar plot showing the total number of measurements taken on each drug regimen using pyplot.\n",
    "# Note: PYPLOT bar using matplotlib.pyplot()\n",
    "\n",
    "# Identify data\n",
    "measurecounts = all_data_clean_df[\"Drug Regimen\"].value_counts()\n",
    "\n",
    "# Sets the x axis to the length of the Drug Regimen in the dataframe all_data_clean_df\n",
    "x_axis = np.arange(len(measurecounts))\n",
    "\n",
    "# Create bar chart.\n",
    "# Note: Measurecounts (drug regimen) as x and corresponding counts in y.\n",
    "# Note: Include some formatting on width and use zorder to bring bars to front.\n",
    "plt.bar(x_axis, measurecounts, width = .8, zorder=3)\n",
    "plt.grid(zorder=0)\n",
    "\n",
    "# Tell matplotlib where we would like to place each of our x axis headers\n",
    "tick_locations = [value for value in x_axis]\n",
    "plt.xticks(tick_locations, measurecounts.index.values)\n",
    "\n",
    "# Rotate tick marks 90 degrees for visibility\n",
    "plt.xticks(rotation=90)\n",
    "\n",
    "# Axes labels\n",
    "plt.xlabel (\"Drug Regimen\")\n",
    "plt.ylabel (\"# Measurements\")\n",
    "plt.title (\"Measurements for Each Drug Regimen\")\n",
    "\n",
    "# Save chart image (optional)\n",
    "# Note: put this before plt.show otherwise image will save as black box.\n",
    "plt.savefig(\"images/bar_pyplot.png\")\n",
    "\n",
    "# Display chart\n",
    "plt.show()\n"
   ]
  },
  {
   "cell_type": "code",
   "execution_count": 11,
   "metadata": {},
   "outputs": [
    {
     "name": "stdout",
     "output_type": "stream",
     "text": [
      "          0\n",
      "Sex        \n",
      "Female  123\n",
      "Male    125\n"
     ]
    }
   ],
   "source": [
    "#  Group by gender to view data\n",
    "groupby_gender = all_data_clean_df.groupby([\"Mouse ID\",\"Sex\"])\n",
    "gender_df = pd.DataFrame(groupby_gender.size())\n",
    "\n",
    "# Create the dataframe with total count of Female and Male mice\n",
    "mouse_gender = pd.DataFrame(gender_df.groupby([\"Sex\"]).count())\n",
    "\n",
    "print(mouse_gender)"
   ]
  },
  {
   "cell_type": "code",
   "execution_count": 12,
   "metadata": {},
   "outputs": [
    {
     "data": {
      "image/png": "[encoded data removed]",
      "text/plain": [
       "<Figure size 720x360 with 1 Axes>"
      ]
     },
     "metadata": {},
     "output_type": "display_data"
    }
   ],
   "source": [
    "# Generate a pie plot showing the distribution of female versus male mice using pandas.\n",
    "# PANDAS Pie bar with pandas.dataframe.plot()\n",
    "\n",
    "# Identify data\n",
    "pie_data_df = all_data_clean_df[\"Sex\"].value_counts()\n",
    "\n",
    "# Chart and format data\n",
    "# Note: Chart start angle, chart figure: size, font, label format, title.\n",
    "colors = [\"lightblue\", \"pink\"]\n",
    "pie_plot = pie_data_df.plot.pie (colors=colors, startangle=90, figsize=(10,5), fontsize=12, autopct=\"%1.2f%%\")\n",
    "\n",
    "\n",
    "# Label formats\n",
    "# .set removes \"dangling\" Y axis label which looks odd on this chart.\n",
    "\n",
    "plt.title (\"Male vs Female Mouse Distribution\", fontsize=20)\n",
    "pie_plot.set_ylabel(\"\")\n",
    "\n",
    "# Save chart image (optional)\n",
    "# Note: put this before plt.show otherwise image will save as black box.\n",
    "plt.savefig(\"images/pie_pandas.png\")\n",
    "\n",
    "# Display chart \n",
    "# Note: Omit this line and output as well as chart displays\n",
    "plt.show()\n",
    "\n"
   ]
  },
  {
   "cell_type": "code",
   "execution_count": 13,
   "metadata": {},
   "outputs": [
    {
     "data": {
      "image/png": "[encoded data removed]",
      "text/plain": [
       "<Figure size 720x360 with 1 Axes>"
      ]
     },
     "metadata": {},
     "output_type": "display_data"
    }
   ],
   "source": [
    "# Generate a pie plot showing the distribution of female versus male mice using pyplot\n",
    "# PYPLOT Pie using matplotlib.pyplot()\n",
    "\n",
    "# Identify data\n",
    "pie_data_df = all_data_clean_df[\"Sex\"].value_counts()\n",
    "\n",
    "# Chart and format data\n",
    "# Note: Use .plt.pie and then call use either option A or B below... \n",
    "fig1, ax1 = plt.subplots(figsize=(10, 5))\n",
    "colors = [\"lightblue\", \"pink\"]\n",
    "explode = (0.1,0)\n",
    "\n",
    "#[Option A] Specify code for pie chart labels and formatting---\n",
    "#sex = [\"male\", \"female\"]\n",
    "#plt.pie(pie_data_df, labels=sex, colors=colors, explode = explode, startangle=90, autopct=\"%1.2f%%\")\n",
    "\n",
    "#[Option B] Rely on variables for labels and index values to pull from dataframe and auto assign color---\n",
    "plt.pie(pie_data_df, labels=pie_data_df.index.values, startangle=90, autopct=\"%1.2f%%\", colors=colors)\n",
    "\n",
    "plt.title(\"Male vs Female Mouse Distribution\", fontsize=20)\n",
    "plt.ylabel (\"\")\n",
    "\n",
    "# Save chart image (optional)\n",
    "# Note: put this before plt.show otherwise image will save as black box.\n",
    "plt.savefig(\"images/pie_pyplot.png\")\n",
    "\n",
    "# Display chart\n",
    "plt.show()\n"
   ]
  },
  {
   "cell_type": "markdown",
   "metadata": {},
   "source": [
    "## Quartiles, Outliers and Boxplots"
   ]
  },
  {
   "cell_type": "markdown",
   "metadata": {},
   "source": [
    "### Clean and prepare data for charts\n",
    "Quartiles, Outliers, Boxplots | Line and Scatter | Correlation and Regression"
   ]
  },
  {
   "cell_type": "code",
   "execution_count": 14,
   "metadata": {},
   "outputs": [
    {
     "name": "stdout",
     "output_type": "stream",
     "text": [
      "    Mouse ID  Max Timepoint\n",
      "0       b447              0\n",
      "1       x226              0\n",
      "2       f932              0\n",
      "3       x336              0\n",
      "4       l872              0\n",
      "..       ...            ...\n",
      "243     k894             45\n",
      "244     l471             45\n",
      "245     l509             45\n",
      "246     i177             45\n",
      "247     z969             45\n",
      "\n",
      "[248 rows x 2 columns]\n"
     ]
    }
   ],
   "source": [
    "# Calculate the final tumor volume of each mouse across four of the treatment regimens:  \n",
    "# Capomulin, Ramicane, Infubinol, and Ceftamin\n",
    "\n",
    "# Start by getting the last (greatest) timepoint for each mouse\n",
    "# Note: Some mice will have a max timepoint of 0 | used print below to see zeros.\n",
    "# Note: This creates a new mousetumor dataframe, grouped by mouse ID with a sorted max timepoint.\n",
    "# Note: Index is then reset using renamed \"Max Timepoint\" (was \"Timepoint\")\n",
    "\n",
    "mousetumor_df = pd.DataFrame (all_data_clean_df.groupby(\"Mouse ID\")[\"Timepoint\"].max().sort_values()).reset_index().rename(columns={\"Timepoint\": \"Max Timepoint\"})\n",
    "\n",
    "print (mousetumor_df)\n",
    "#mousetumor_df.head()\n"
   ]
  },
  {
   "cell_type": "code",
   "execution_count": 15,
   "metadata": {},
   "outputs": [
    {
     "data": {
      "text/html": [
       "<div>\n",
       "<style scoped>\n",
       "    .dataframe tbody tr th:only-of-type {\n",
       "        vertical-align: middle;\n",
       "    }\n",
       "\n",
       "    .dataframe tbody tr th {\n",
       "        vertical-align: top;\n",
       "    }\n",
       "\n",
       "    .dataframe thead th {\n",
       "        text-align: right;\n",
       "    }\n",
       "</style>\n",
       "<table border=\"1\" class=\"dataframe\">\n",
       "  <thead>\n",
       "    <tr style=\"text-align: right;\">\n",
       "      <th></th>\n",
       "      <th>Mouse ID</th>\n",
       "      <th>Drug Regimen</th>\n",
       "      <th>Sex</th>\n",
       "      <th>Age_months</th>\n",
       "      <th>Weight (g)</th>\n",
       "      <th>Timepoint</th>\n",
       "      <th>Tumor Volume (mm3)</th>\n",
       "      <th>Metastatic Sites</th>\n",
       "      <th>Max Timepoint</th>\n",
       "    </tr>\n",
       "  </thead>\n",
       "  <tbody>\n",
       "    <tr>\n",
       "      <th>0</th>\n",
       "      <td>k403</td>\n",
       "      <td>Ramicane</td>\n",
       "      <td>Male</td>\n",
       "      <td>21</td>\n",
       "      <td>16</td>\n",
       "      <td>0</td>\n",
       "      <td>45.000000</td>\n",
       "      <td>0</td>\n",
       "      <td>45</td>\n",
       "    </tr>\n",
       "    <tr>\n",
       "      <th>1</th>\n",
       "      <td>k403</td>\n",
       "      <td>Ramicane</td>\n",
       "      <td>Male</td>\n",
       "      <td>21</td>\n",
       "      <td>16</td>\n",
       "      <td>5</td>\n",
       "      <td>38.825898</td>\n",
       "      <td>0</td>\n",
       "      <td>45</td>\n",
       "    </tr>\n",
       "    <tr>\n",
       "      <th>2</th>\n",
       "      <td>k403</td>\n",
       "      <td>Ramicane</td>\n",
       "      <td>Male</td>\n",
       "      <td>21</td>\n",
       "      <td>16</td>\n",
       "      <td>10</td>\n",
       "      <td>35.014271</td>\n",
       "      <td>1</td>\n",
       "      <td>45</td>\n",
       "    </tr>\n",
       "    <tr>\n",
       "      <th>3</th>\n",
       "      <td>k403</td>\n",
       "      <td>Ramicane</td>\n",
       "      <td>Male</td>\n",
       "      <td>21</td>\n",
       "      <td>16</td>\n",
       "      <td>15</td>\n",
       "      <td>34.223992</td>\n",
       "      <td>1</td>\n",
       "      <td>45</td>\n",
       "    </tr>\n",
       "    <tr>\n",
       "      <th>4</th>\n",
       "      <td>k403</td>\n",
       "      <td>Ramicane</td>\n",
       "      <td>Male</td>\n",
       "      <td>21</td>\n",
       "      <td>16</td>\n",
       "      <td>20</td>\n",
       "      <td>32.997729</td>\n",
       "      <td>1</td>\n",
       "      <td>45</td>\n",
       "    </tr>\n",
       "  </tbody>\n",
       "</table>\n",
       "</div>"
      ],
      "text/plain": [
       "  Mouse ID Drug Regimen   Sex  Age_months  Weight (g)  Timepoint  \\\n",
       "0     k403     Ramicane  Male          21          16          0   \n",
       "1     k403     Ramicane  Male          21          16          5   \n",
       "2     k403     Ramicane  Male          21          16         10   \n",
       "3     k403     Ramicane  Male          21          16         15   \n",
       "4     k403     Ramicane  Male          21          16         20   \n",
       "\n",
       "   Tumor Volume (mm3)  Metastatic Sites  Max Timepoint  \n",
       "0           45.000000                 0             45  \n",
       "1           38.825898                 0             45  \n",
       "2           35.014271                 1             45  \n",
       "3           34.223992                 1             45  \n",
       "4           32.997729                 1             45  "
      ]
     },
     "execution_count": 15,
     "metadata": {},
     "output_type": "execute_result"
    }
   ],
   "source": [
    "# Merge this group df with the original dataframe to get the tumor volume at the last timepoint\n",
    "# Note use pd.merge to add mousetumor_df into all_data_clean - will replace Timepoint with new column \"Max Timepoint\"\n",
    "\n",
    "maxtime_merged_df = pd.merge(all_data_clean_df, mousetumor_df, on=\"Mouse ID\")\n",
    "maxtime_merged_df.head()\n"
   ]
  },
  {
   "cell_type": "code",
   "execution_count": 16,
   "metadata": {},
   "outputs": [
    {
     "data": {
      "text/html": [
       "<div>\n",
       "<style scoped>\n",
       "    .dataframe tbody tr th:only-of-type {\n",
       "        vertical-align: middle;\n",
       "    }\n",
       "\n",
       "    .dataframe tbody tr th {\n",
       "        vertical-align: top;\n",
       "    }\n",
       "\n",
       "    .dataframe thead th {\n",
       "        text-align: right;\n",
       "    }\n",
       "</style>\n",
       "<table border=\"1\" class=\"dataframe\">\n",
       "  <thead>\n",
       "    <tr style=\"text-align: right;\">\n",
       "      <th></th>\n",
       "      <th>Mouse ID</th>\n",
       "      <th>Timepoint</th>\n",
       "      <th>Drug Regimen</th>\n",
       "      <th>Sex</th>\n",
       "      <th>Age_months</th>\n",
       "      <th>Weight (g)</th>\n",
       "      <th>Tumor Volume (mm3)</th>\n",
       "      <th>Metastatic Sites</th>\n",
       "    </tr>\n",
       "  </thead>\n",
       "  <tbody>\n",
       "    <tr>\n",
       "      <th>0</th>\n",
       "      <td>b128</td>\n",
       "      <td>45</td>\n",
       "      <td>Capomulin</td>\n",
       "      <td>Female</td>\n",
       "      <td>9</td>\n",
       "      <td>22</td>\n",
       "      <td>38.982878</td>\n",
       "      <td>2</td>\n",
       "    </tr>\n",
       "    <tr>\n",
       "      <th>1</th>\n",
       "      <td>b742</td>\n",
       "      <td>45</td>\n",
       "      <td>Capomulin</td>\n",
       "      <td>Male</td>\n",
       "      <td>7</td>\n",
       "      <td>21</td>\n",
       "      <td>38.939633</td>\n",
       "      <td>0</td>\n",
       "    </tr>\n",
       "    <tr>\n",
       "      <th>2</th>\n",
       "      <td>f966</td>\n",
       "      <td>20</td>\n",
       "      <td>Capomulin</td>\n",
       "      <td>Male</td>\n",
       "      <td>16</td>\n",
       "      <td>17</td>\n",
       "      <td>30.485985</td>\n",
       "      <td>0</td>\n",
       "    </tr>\n",
       "    <tr>\n",
       "      <th>3</th>\n",
       "      <td>g288</td>\n",
       "      <td>45</td>\n",
       "      <td>Capomulin</td>\n",
       "      <td>Male</td>\n",
       "      <td>3</td>\n",
       "      <td>19</td>\n",
       "      <td>37.074024</td>\n",
       "      <td>1</td>\n",
       "    </tr>\n",
       "    <tr>\n",
       "      <th>4</th>\n",
       "      <td>g316</td>\n",
       "      <td>45</td>\n",
       "      <td>Capomulin</td>\n",
       "      <td>Female</td>\n",
       "      <td>22</td>\n",
       "      <td>22</td>\n",
       "      <td>40.159220</td>\n",
       "      <td>2</td>\n",
       "    </tr>\n",
       "  </tbody>\n",
       "</table>\n",
       "</div>"
      ],
      "text/plain": [
       "  Mouse ID  Timepoint Drug Regimen     Sex  Age_months  Weight (g)  \\\n",
       "0     b128         45    Capomulin  Female           9          22   \n",
       "1     b742         45    Capomulin    Male           7          21   \n",
       "2     f966         20    Capomulin    Male          16          17   \n",
       "3     g288         45    Capomulin    Male           3          19   \n",
       "4     g316         45    Capomulin  Female          22          22   \n",
       "\n",
       "   Tumor Volume (mm3)  Metastatic Sites  \n",
       "0           38.982878                 2  \n",
       "1           38.939633                 0  \n",
       "2           30.485985                 0  \n",
       "3           37.074024                 1  \n",
       "4           40.159220                 2  "
      ]
     },
     "execution_count": 16,
     "metadata": {},
     "output_type": "execute_result"
    }
   ],
   "source": [
    "# Pull out top four drugs from merged dataframe: Capomulin, Ramicane, Infubinol, and Ceftamin\n",
    "# Four new dataframes below - one for each drug, merged in with maxtime_merged_df.\n",
    "\n",
    "capo_df = maxtime_merged_df.loc[maxtime_merged_df[\"Drug Regimen\"] == \"Capomulin\",:]\n",
    "rami_df = maxtime_merged_df.loc[maxtime_merged_df[\"Drug Regimen\"] == \"Ramicane\", :]\n",
    "infu_df = maxtime_merged_df.loc[maxtime_merged_df[\"Drug Regimen\"] == \"Infubinol\", :]\n",
    "ceft_df = maxtime_merged_df.loc[maxtime_merged_df[\"Drug Regimen\"] == \"Ceftamin\", :]\n",
    "\n",
    "# Print first df to confirm data is correct. You can change dataframe below to test other dfs.\n",
    "#capo_df.head()\n",
    "\n",
    "#Capomulin\n",
    "capo_last = capo_df.groupby(\"Mouse ID\").max()[\"Timepoint\"]\n",
    "capo_vol = pd.DataFrame(capo_last)\n",
    "capo_merge = pd.merge(capo_vol, all_data_clean_df, on=(\"Mouse ID\",\"Timepoint\"),how=\"left\")\n",
    "capo_merge.head()\n",
    "\n"
   ]
  },
  {
   "cell_type": "markdown",
   "metadata": {},
   "source": [
    "### Final Tumor Volume by Top Four Treatments"
   ]
  },
  {
   "cell_type": "code",
   "execution_count": 17,
   "metadata": {},
   "outputs": [
    {
     "name": "stdout",
     "output_type": "stream",
     "text": [
      "Capomulin -- tumors lower quartile: 32.37735684\n",
      "Capomulin -- tumors upper quartile: 40.1592203\n",
      "Capomulin -- tumors interquartile: 7.781863460000004\n",
      "Capomulin -- tumors median: 38.125164399999996\n",
      "Possible outliers if values are below: 20.70456164999999\n",
      "Possible outliers if values are above: 51.83201549\n"
     ]
    }
   ],
   "source": [
    "# Capomulin quartiles and IQR\n",
    "# Determine outliers using upper and lower bounds\n",
    "# Note: If the data is in a dataframe, use pandas to give quartile calculations\n",
    "capo_tumors = capo_merge[\"Tumor Volume (mm3)\"]\n",
    "\n",
    "quartiles = capo_tumors.quantile([.25,.5,.75])\n",
    "lowerq = quartiles[0.25]\n",
    "upperq = quartiles[0.75]\n",
    "iqr = upperq-lowerq\n",
    "\n",
    "\n",
    "print(f\"Capomulin -- tumors lower quartile: {lowerq}\")\n",
    "print(f\"Capomulin -- tumors upper quartile: {upperq}\")\n",
    "print(f\"Capomulin -- tumors interquartile: {iqr}\")\n",
    "print(f\"Capomulin -- tumors median: {quartiles[0.5]}\")\n",
    "\n",
    "# Note: outlier standards +/- 1git commit -m \"\".5 (Interquartile Range (IQR) Rule)\n",
    "lower_bound = lowerq - (1.5*iqr)\n",
    "upper_bound = upperq + (1.5*iqr)\n",
    "\n",
    "print(f\"Possible outliers if values are below: {lower_bound}\")\n",
    "print(f\"Possible outliers if values are above: {upper_bound}\")"
   ]
  },
  {
   "cell_type": "code",
   "execution_count": 18,
   "metadata": {},
   "outputs": [
    {
     "data": {
      "text/html": [
       "<div>\n",
       "<style scoped>\n",
       "    .dataframe tbody tr th:only-of-type {\n",
       "        vertical-align: middle;\n",
       "    }\n",
       "\n",
       "    .dataframe tbody tr th {\n",
       "        vertical-align: top;\n",
       "    }\n",
       "\n",
       "    .dataframe thead th {\n",
       "        text-align: right;\n",
       "    }\n",
       "</style>\n",
       "<table border=\"1\" class=\"dataframe\">\n",
       "  <thead>\n",
       "    <tr style=\"text-align: right;\">\n",
       "      <th></th>\n",
       "      <th>Mouse ID</th>\n",
       "      <th>Timepoint</th>\n",
       "      <th>Drug Regimen</th>\n",
       "      <th>Sex</th>\n",
       "      <th>Age_months</th>\n",
       "      <th>Weight (g)</th>\n",
       "      <th>Tumor Volume (mm3)</th>\n",
       "      <th>Metastatic Sites</th>\n",
       "    </tr>\n",
       "  </thead>\n",
       "  <tbody>\n",
       "    <tr>\n",
       "      <th>0</th>\n",
       "      <td>a411</td>\n",
       "      <td>45</td>\n",
       "      <td>Ramicane</td>\n",
       "      <td>Male</td>\n",
       "      <td>3</td>\n",
       "      <td>22</td>\n",
       "      <td>38.407618</td>\n",
       "      <td>1</td>\n",
       "    </tr>\n",
       "    <tr>\n",
       "      <th>1</th>\n",
       "      <td>a444</td>\n",
       "      <td>45</td>\n",
       "      <td>Ramicane</td>\n",
       "      <td>Female</td>\n",
       "      <td>10</td>\n",
       "      <td>25</td>\n",
       "      <td>43.047543</td>\n",
       "      <td>0</td>\n",
       "    </tr>\n",
       "    <tr>\n",
       "      <th>2</th>\n",
       "      <td>a520</td>\n",
       "      <td>45</td>\n",
       "      <td>Ramicane</td>\n",
       "      <td>Male</td>\n",
       "      <td>13</td>\n",
       "      <td>21</td>\n",
       "      <td>38.810366</td>\n",
       "      <td>1</td>\n",
       "    </tr>\n",
       "    <tr>\n",
       "      <th>3</th>\n",
       "      <td>a644</td>\n",
       "      <td>45</td>\n",
       "      <td>Ramicane</td>\n",
       "      <td>Female</td>\n",
       "      <td>7</td>\n",
       "      <td>17</td>\n",
       "      <td>32.978522</td>\n",
       "      <td>1</td>\n",
       "    </tr>\n",
       "    <tr>\n",
       "      <th>4</th>\n",
       "      <td>c458</td>\n",
       "      <td>30</td>\n",
       "      <td>Ramicane</td>\n",
       "      <td>Female</td>\n",
       "      <td>23</td>\n",
       "      <td>20</td>\n",
       "      <td>38.342008</td>\n",
       "      <td>2</td>\n",
       "    </tr>\n",
       "  </tbody>\n",
       "</table>\n",
       "</div>"
      ],
      "text/plain": [
       "  Mouse ID  Timepoint Drug Regimen     Sex  Age_months  Weight (g)  \\\n",
       "0     a411         45     Ramicane    Male           3          22   \n",
       "1     a444         45     Ramicane  Female          10          25   \n",
       "2     a520         45     Ramicane    Male          13          21   \n",
       "3     a644         45     Ramicane  Female           7          17   \n",
       "4     c458         30     Ramicane  Female          23          20   \n",
       "\n",
       "   Tumor Volume (mm3)  Metastatic Sites  \n",
       "0           38.407618                 1  \n",
       "1           43.047543                 0  \n",
       "2           38.810366                 1  \n",
       "3           32.978522                 1  \n",
       "4           38.342008                 2  "
      ]
     },
     "execution_count": 18,
     "metadata": {},
     "output_type": "execute_result"
    }
   ],
   "source": [
    "#Ramicane\n",
    "rami_last = rami_df.groupby(\"Mouse ID\").max()[\"Timepoint\"]\n",
    "rami_vol = pd.DataFrame(rami_last)\n",
    "rami_merge = pd.merge(rami_vol, all_data_clean_df, on=(\"Mouse ID\",\"Timepoint\"),how=\"left\")\n",
    "rami_merge.head()\n"
   ]
  },
  {
   "cell_type": "code",
   "execution_count": 19,
   "metadata": {},
   "outputs": [
    {
     "name": "stdout",
     "output_type": "stream",
     "text": [
      "Ramicane -- tumors lower quartile: 31.56046955\n",
      "Ramicane -- tumors upper quartile: 40.65900627\n",
      "Ramicane -- tumors interquartile: 9.098536719999998\n",
      "Ramicane -- tumors median: 36.56165229\n",
      "Possible outliers if values are below: 17.912664470000003\n",
      "Possible outliers if values are above: 54.30681135\n"
     ]
    }
   ],
   "source": [
    "# Ramicane quartiles and IQR\n",
    "# Determine outliers using upper and lower bounds\n",
    "# Note: If the data is in a dataframe, use pandas to give quartile calculations\n",
    "rami_tumors = rami_merge[\"Tumor Volume (mm3)\"]\n",
    "\n",
    "quartiles = rami_tumors.quantile([.25,.5,.75])\n",
    "lowerq = quartiles[0.25]\n",
    "upperq = quartiles[0.75]\n",
    "iqr = upperq-lowerq\n",
    "\n",
    "\n",
    "print(f\"Ramicane -- tumors lower quartile: {lowerq}\")\n",
    "print(f\"Ramicane -- tumors upper quartile: {upperq}\")\n",
    "print(f\"Ramicane -- tumors interquartile: {iqr}\")\n",
    "print(f\"Ramicane -- tumors median: {quartiles[0.5]}\")\n",
    "\n",
    "# Note: outlier standards +/- 1git commit -m \"\".5 (Interquartile Range (IQR) Rule)\n",
    "lower_bound = lowerq - (1.5*iqr)\n",
    "upper_bound = upperq + (1.5*iqr)\n",
    "\n",
    "print(f\"Possible outliers if values are below: {lower_bound}\")\n",
    "print(f\"Possible outliers if values are above: {upper_bound}\")"
   ]
  },
  {
   "cell_type": "code",
   "execution_count": 20,
   "metadata": {},
   "outputs": [
    {
     "data": {
      "text/html": [
       "<div>\n",
       "<style scoped>\n",
       "    .dataframe tbody tr th:only-of-type {\n",
       "        vertical-align: middle;\n",
       "    }\n",
       "\n",
       "    .dataframe tbody tr th {\n",
       "        vertical-align: top;\n",
       "    }\n",
       "\n",
       "    .dataframe thead th {\n",
       "        text-align: right;\n",
       "    }\n",
       "</style>\n",
       "<table border=\"1\" class=\"dataframe\">\n",
       "  <thead>\n",
       "    <tr style=\"text-align: right;\">\n",
       "      <th></th>\n",
       "      <th>Mouse ID</th>\n",
       "      <th>Timepoint</th>\n",
       "      <th>Drug Regimen</th>\n",
       "      <th>Sex</th>\n",
       "      <th>Age_months</th>\n",
       "      <th>Weight (g)</th>\n",
       "      <th>Tumor Volume (mm3)</th>\n",
       "      <th>Metastatic Sites</th>\n",
       "    </tr>\n",
       "  </thead>\n",
       "  <tbody>\n",
       "    <tr>\n",
       "      <th>0</th>\n",
       "      <td>a203</td>\n",
       "      <td>45</td>\n",
       "      <td>Infubinol</td>\n",
       "      <td>Female</td>\n",
       "      <td>20</td>\n",
       "      <td>23</td>\n",
       "      <td>67.973419</td>\n",
       "      <td>2</td>\n",
       "    </tr>\n",
       "    <tr>\n",
       "      <th>1</th>\n",
       "      <td>a251</td>\n",
       "      <td>45</td>\n",
       "      <td>Infubinol</td>\n",
       "      <td>Female</td>\n",
       "      <td>21</td>\n",
       "      <td>25</td>\n",
       "      <td>65.525743</td>\n",
       "      <td>1</td>\n",
       "    </tr>\n",
       "    <tr>\n",
       "      <th>2</th>\n",
       "      <td>a577</td>\n",
       "      <td>30</td>\n",
       "      <td>Infubinol</td>\n",
       "      <td>Female</td>\n",
       "      <td>6</td>\n",
       "      <td>25</td>\n",
       "      <td>57.031862</td>\n",
       "      <td>2</td>\n",
       "    </tr>\n",
       "    <tr>\n",
       "      <th>3</th>\n",
       "      <td>a685</td>\n",
       "      <td>45</td>\n",
       "      <td>Infubinol</td>\n",
       "      <td>Male</td>\n",
       "      <td>8</td>\n",
       "      <td>30</td>\n",
       "      <td>66.083066</td>\n",
       "      <td>3</td>\n",
       "    </tr>\n",
       "    <tr>\n",
       "      <th>4</th>\n",
       "      <td>c139</td>\n",
       "      <td>45</td>\n",
       "      <td>Infubinol</td>\n",
       "      <td>Male</td>\n",
       "      <td>11</td>\n",
       "      <td>28</td>\n",
       "      <td>72.226731</td>\n",
       "      <td>2</td>\n",
       "    </tr>\n",
       "  </tbody>\n",
       "</table>\n",
       "</div>"
      ],
      "text/plain": [
       "  Mouse ID  Timepoint Drug Regimen     Sex  Age_months  Weight (g)  \\\n",
       "0     a203         45    Infubinol  Female          20          23   \n",
       "1     a251         45    Infubinol  Female          21          25   \n",
       "2     a577         30    Infubinol  Female           6          25   \n",
       "3     a685         45    Infubinol    Male           8          30   \n",
       "4     c139         45    Infubinol    Male          11          28   \n",
       "\n",
       "   Tumor Volume (mm3)  Metastatic Sites  \n",
       "0           67.973419                 2  \n",
       "1           65.525743                 1  \n",
       "2           57.031862                 2  \n",
       "3           66.083066                 3  \n",
       "4           72.226731                 2  "
      ]
     },
     "execution_count": 20,
     "metadata": {},
     "output_type": "execute_result"
    }
   ],
   "source": [
    "#Infubinol\n",
    "infu_last = infu_df.groupby(\"Mouse ID\").max()[\"Timepoint\"]\n",
    "infu_vol = pd.DataFrame(infu_last)\n",
    "infu_merge = pd.merge(infu_vol, all_data_clean_df, on=(\"Mouse ID\",\"Timepoint\"),how=\"left\")\n",
    "infu_merge.head()"
   ]
  },
  {
   "cell_type": "code",
   "execution_count": 21,
   "metadata": {},
   "outputs": [
    {
     "name": "stdout",
     "output_type": "stream",
     "text": [
      "Infubinol -- tumors lower quartile: 54.04860769\n",
      "Infubinol -- tumors upper quartile: 65.52574285\n",
      "Infubinol -- tumors interquartile: 11.477135160000003\n",
      "Infubinol -- tumors median: 60.16518046\n",
      "Possible outliers if values are below: 36.83290494999999\n",
      "Possible outliers if values are above: 82.74144559000001\n"
     ]
    }
   ],
   "source": [
    "# Infubinol quartiles and IQR\n",
    "# Determine outliers using upper and lower bounds\n",
    "# Note: If the data is in a dataframe, use pandas to give quartile calculations\n",
    "infu_tumors = infu_merge[\"Tumor Volume (mm3)\"]\n",
    "\n",
    "quartiles = infu_tumors.quantile([.25,.5,.75])\n",
    "lowerq = quartiles[0.25]\n",
    "upperq = quartiles[0.75]\n",
    "iqr = upperq-lowerq\n",
    "\n",
    "\n",
    "print(f\"Infubinol -- tumors lower quartile: {lowerq}\")\n",
    "print(f\"Infubinol -- tumors upper quartile: {upperq}\")\n",
    "print(f\"Infubinol -- tumors interquartile: {iqr}\")\n",
    "print(f\"Infubinol -- tumors median: {quartiles[0.5]}\")\n",
    "\n",
    "# Note: outlier standards +/- 1git commit -m \"\".5 (Interquartile Range (IQR) Rule)\n",
    "lower_bound = lowerq - (1.5*iqr)\n",
    "upper_bound = upperq + (1.5*iqr)\n",
    "\n",
    "print(f\"Possible outliers if values are below: {lower_bound}\")\n",
    "print(f\"Possible outliers if values are above: {upper_bound}\")"
   ]
  },
  {
   "cell_type": "code",
   "execution_count": 22,
   "metadata": {},
   "outputs": [
    {
     "data": {
      "text/html": [
       "<div>\n",
       "<style scoped>\n",
       "    .dataframe tbody tr th:only-of-type {\n",
       "        vertical-align: middle;\n",
       "    }\n",
       "\n",
       "    .dataframe tbody tr th {\n",
       "        vertical-align: top;\n",
       "    }\n",
       "\n",
       "    .dataframe thead th {\n",
       "        text-align: right;\n",
       "    }\n",
       "</style>\n",
       "<table border=\"1\" class=\"dataframe\">\n",
       "  <thead>\n",
       "    <tr style=\"text-align: right;\">\n",
       "      <th></th>\n",
       "      <th>Mouse ID</th>\n",
       "      <th>Timepoint</th>\n",
       "      <th>Drug Regimen</th>\n",
       "      <th>Sex</th>\n",
       "      <th>Age_months</th>\n",
       "      <th>Weight (g)</th>\n",
       "      <th>Tumor Volume (mm3)</th>\n",
       "      <th>Metastatic Sites</th>\n",
       "    </tr>\n",
       "  </thead>\n",
       "  <tbody>\n",
       "    <tr>\n",
       "      <th>0</th>\n",
       "      <td>a275</td>\n",
       "      <td>45</td>\n",
       "      <td>Ceftamin</td>\n",
       "      <td>Female</td>\n",
       "      <td>20</td>\n",
       "      <td>28</td>\n",
       "      <td>62.999356</td>\n",
       "      <td>3</td>\n",
       "    </tr>\n",
       "    <tr>\n",
       "      <th>1</th>\n",
       "      <td>b447</td>\n",
       "      <td>0</td>\n",
       "      <td>Ceftamin</td>\n",
       "      <td>Male</td>\n",
       "      <td>2</td>\n",
       "      <td>30</td>\n",
       "      <td>45.000000</td>\n",
       "      <td>0</td>\n",
       "    </tr>\n",
       "    <tr>\n",
       "      <th>2</th>\n",
       "      <td>b487</td>\n",
       "      <td>25</td>\n",
       "      <td>Ceftamin</td>\n",
       "      <td>Female</td>\n",
       "      <td>6</td>\n",
       "      <td>28</td>\n",
       "      <td>56.057749</td>\n",
       "      <td>1</td>\n",
       "    </tr>\n",
       "    <tr>\n",
       "      <th>3</th>\n",
       "      <td>b759</td>\n",
       "      <td>30</td>\n",
       "      <td>Ceftamin</td>\n",
       "      <td>Female</td>\n",
       "      <td>12</td>\n",
       "      <td>25</td>\n",
       "      <td>55.742829</td>\n",
       "      <td>1</td>\n",
       "    </tr>\n",
       "    <tr>\n",
       "      <th>4</th>\n",
       "      <td>f436</td>\n",
       "      <td>15</td>\n",
       "      <td>Ceftamin</td>\n",
       "      <td>Female</td>\n",
       "      <td>3</td>\n",
       "      <td>25</td>\n",
       "      <td>48.722078</td>\n",
       "      <td>2</td>\n",
       "    </tr>\n",
       "  </tbody>\n",
       "</table>\n",
       "</div>"
      ],
      "text/plain": [
       "  Mouse ID  Timepoint Drug Regimen     Sex  Age_months  Weight (g)  \\\n",
       "0     a275         45     Ceftamin  Female          20          28   \n",
       "1     b447          0     Ceftamin    Male           2          30   \n",
       "2     b487         25     Ceftamin  Female           6          28   \n",
       "3     b759         30     Ceftamin  Female          12          25   \n",
       "4     f436         15     Ceftamin  Female           3          25   \n",
       "\n",
       "   Tumor Volume (mm3)  Metastatic Sites  \n",
       "0           62.999356                 3  \n",
       "1           45.000000                 0  \n",
       "2           56.057749                 1  \n",
       "3           55.742829                 1  \n",
       "4           48.722078                 2  "
      ]
     },
     "execution_count": 22,
     "metadata": {},
     "output_type": "execute_result"
    }
   ],
   "source": [
    "#Ceftamin\n",
    "ceft_last = ceft_df.groupby(\"Mouse ID\").max()[\"Timepoint\"]\n",
    "ceft_vol = pd.DataFrame(ceft_last)\n",
    "ceft_merge = pd.merge(ceft_vol, all_data_clean_df, on=(\"Mouse ID\",\"Timepoint\"),how=\"left\")\n",
    "ceft_merge.head()"
   ]
  },
  {
   "cell_type": "code",
   "execution_count": 23,
   "metadata": {},
   "outputs": [
    {
     "name": "stdout",
     "output_type": "stream",
     "text": [
      "Ceftamin -- tumors lower quartile: 48.72207785\n",
      "Ceftamin -- tumors upper quartile: 64.29983003\n",
      "Ceftamin -- tumors interquartile: 15.577752179999997\n",
      "Ceftamin -- tumors median: 59.85195552\n",
      "Possible outliers if values are below: 25.355449580000002\n",
      "Possible outliers if values are above: 87.66645829999999\n"
     ]
    }
   ],
   "source": [
    "# Ceftamin quartiles and IQR\n",
    "# Determine outliers using upper and lower bounds\n",
    "# Note: If the data is in a dataframe, use pandas to give quartile calculations\n",
    "ceft_tumors = ceft_merge[\"Tumor Volume (mm3)\"]\n",
    "\n",
    "quartiles = ceft_tumors.quantile([.25,.5,.75])\n",
    "lowerq = quartiles[0.25]\n",
    "upperq = quartiles[0.75]\n",
    "iqr = upperq-lowerq\n",
    "\n",
    "print(f\"Ceftamin -- tumors lower quartile: {lowerq}\")\n",
    "print(f\"Ceftamin -- tumors upper quartile: {upperq}\")\n",
    "print(f\"Ceftamin -- tumors interquartile: {iqr}\")\n",
    "print(f\"Ceftamin -- tumors median: {quartiles[0.5]}\")\n",
    "\n",
    "# Note: outlier standards +/- 1git commit -m \"\".5 (Interquartile Range (IQR) Rule)\n",
    "lower_bound = lowerq - (1.5*iqr)\n",
    "upper_bound = upperq + (1.5*iqr)\n",
    "\n",
    "print(f\"Possible outliers if values are below: {lower_bound}\")\n",
    "print(f\"Possible outliers if values are above: {upper_bound}\")"
   ]
  },
  {
   "cell_type": "code",
   "execution_count": 24,
   "metadata": {},
   "outputs": [
    {
     "data": {
      "image/png": "[encoded data removed]",
      "text/plain": [
       "<Figure size 720x360 with 1 Axes>"
      ]
     },
     "metadata": {
      "needs_background": "light"
     },
     "output_type": "display_data"
    }
   ],
   "source": [
    "# Generate a box plot of the final tumor volume of each mouse across four regimens of interest\n",
    "# Note: Run prior row to calculate data first otherwise chart will error out.\n",
    "\n",
    "tumorvolume_plot = [capo_tumors, rami_tumors, infu_tumors, ceft_tumors]\n",
    "Regimen= [\"Capomulin\", \"Ramicane\", \"Infubinol\", \"Ceftamin\"]\n",
    "\n",
    "# Prints boxplot\n",
    "# Notes: patch_artist = blue fillin\n",
    "green_diamond = dict(markerfacecolor='g', marker='D')\n",
    "fig1, ax1 = plt.subplots(figsize=(10, 5))\n",
    "ax1.set_title(\"Tumor Volume for Selected Mouse\",fontsize=18)\n",
    "ax1.set_ylabel(\"Final Tumor Volume (mm3)\",fontsize = 14)\n",
    "ax1.set_xlabel(\"Drug Regimen\",fontsize = 14)\n",
    "ax1.boxplot(tumorvolume_plot, flierprops=green_diamond, labels=Regimen, widths = 0.6, patch_artist=True, vert=True)\n",
    "\n",
    "\n",
    "# Range on x axis\n",
    "plt.ylim(10, 80)\n",
    "\n",
    "# Save chart image (optional)\n",
    "# Note: put this before plt.show otherwise image will save as black box.\n",
    "plt.savefig(\"images/boxplot.png\")\n",
    "\n",
    "# Display chart\n",
    "plt.show()\n",
    "\n",
    "#Potato- make dot red"
   ]
  },
  {
   "cell_type": "markdown",
   "metadata": {},
   "source": [
    "## Line and Scatter Plots"
   ]
  },
  {
   "cell_type": "code",
   "execution_count": 25,
   "metadata": {},
   "outputs": [
    {
     "data": {
      "text/html": [
       "<div>\n",
       "<style scoped>\n",
       "    .dataframe tbody tr th:only-of-type {\n",
       "        vertical-align: middle;\n",
       "    }\n",
       "\n",
       "    .dataframe tbody tr th {\n",
       "        vertical-align: top;\n",
       "    }\n",
       "\n",
       "    .dataframe thead th {\n",
       "        text-align: right;\n",
       "    }\n",
       "</style>\n",
       "<table border=\"1\" class=\"dataframe\">\n",
       "  <thead>\n",
       "    <tr style=\"text-align: right;\">\n",
       "      <th></th>\n",
       "      <th>Mouse ID</th>\n",
       "      <th>Drug Regimen</th>\n",
       "      <th>Sex</th>\n",
       "      <th>Age_months</th>\n",
       "      <th>Weight (g)</th>\n",
       "      <th>Timepoint</th>\n",
       "      <th>Tumor Volume (mm3)</th>\n",
       "      <th>Metastatic Sites</th>\n",
       "      <th>Max Timepoint</th>\n",
       "    </tr>\n",
       "  </thead>\n",
       "  <tbody>\n",
       "    <tr>\n",
       "      <th>300</th>\n",
       "      <td>b128</td>\n",
       "      <td>Capomulin</td>\n",
       "      <td>Female</td>\n",
       "      <td>9</td>\n",
       "      <td>22</td>\n",
       "      <td>0</td>\n",
       "      <td>45.000000</td>\n",
       "      <td>0</td>\n",
       "      <td>45</td>\n",
       "    </tr>\n",
       "    <tr>\n",
       "      <th>301</th>\n",
       "      <td>b128</td>\n",
       "      <td>Capomulin</td>\n",
       "      <td>Female</td>\n",
       "      <td>9</td>\n",
       "      <td>22</td>\n",
       "      <td>5</td>\n",
       "      <td>45.651331</td>\n",
       "      <td>0</td>\n",
       "      <td>45</td>\n",
       "    </tr>\n",
       "    <tr>\n",
       "      <th>302</th>\n",
       "      <td>b128</td>\n",
       "      <td>Capomulin</td>\n",
       "      <td>Female</td>\n",
       "      <td>9</td>\n",
       "      <td>22</td>\n",
       "      <td>10</td>\n",
       "      <td>43.270852</td>\n",
       "      <td>0</td>\n",
       "      <td>45</td>\n",
       "    </tr>\n",
       "    <tr>\n",
       "      <th>303</th>\n",
       "      <td>b128</td>\n",
       "      <td>Capomulin</td>\n",
       "      <td>Female</td>\n",
       "      <td>9</td>\n",
       "      <td>22</td>\n",
       "      <td>15</td>\n",
       "      <td>43.784893</td>\n",
       "      <td>0</td>\n",
       "      <td>45</td>\n",
       "    </tr>\n",
       "    <tr>\n",
       "      <th>304</th>\n",
       "      <td>b128</td>\n",
       "      <td>Capomulin</td>\n",
       "      <td>Female</td>\n",
       "      <td>9</td>\n",
       "      <td>22</td>\n",
       "      <td>20</td>\n",
       "      <td>42.731552</td>\n",
       "      <td>0</td>\n",
       "      <td>45</td>\n",
       "    </tr>\n",
       "  </tbody>\n",
       "</table>\n",
       "</div>"
      ],
      "text/plain": [
       "    Mouse ID Drug Regimen     Sex  Age_months  Weight (g)  Timepoint  \\\n",
       "300     b128    Capomulin  Female           9          22          0   \n",
       "301     b128    Capomulin  Female           9          22          5   \n",
       "302     b128    Capomulin  Female           9          22         10   \n",
       "303     b128    Capomulin  Female           9          22         15   \n",
       "304     b128    Capomulin  Female           9          22         20   \n",
       "\n",
       "     Tumor Volume (mm3)  Metastatic Sites  Max Timepoint  \n",
       "300           45.000000                 0             45  \n",
       "301           45.651331                 0             45  \n",
       "302           43.270852                 0             45  \n",
       "303           43.784893                 0             45  \n",
       "304           42.731552                 0             45  "
      ]
     },
     "execution_count": 25,
     "metadata": {},
     "output_type": "execute_result"
    }
   ],
   "source": [
    "# Dataframe for Capomulin and mouse line and scatter plots\n",
    "one_mouse_df = capo_df.loc[capo_df[\"Mouse ID\"] == \"b128\",:]\n",
    "one_mouse_df.head()"
   ]
  },
  {
   "cell_type": "code",
   "execution_count": 26,
   "metadata": {},
   "outputs": [
    {
     "data": {
      "image/png": "[encoded data removed]",
      "text/plain": [
       "<Figure size 720x360 with 1 Axes>"
      ]
     },
     "metadata": {
      "needs_background": "light"
     },
     "output_type": "display_data"
    }
   ],
   "source": [
    "# Generate a line plot of tumor volume vs.time point for a mouse treated with Capomuli\n",
    "x_time = one_mouse_df[\"Timepoint\"]\n",
    "y_volume = one_mouse_df[\"Tumor Volume (mm3)\"]\n",
    "\n",
    "# Format chart\n",
    "fig1, ax1 = plt.subplots(figsize=(10, 5))\n",
    "plt.title(\"Capomulin Treatmeant for Mouse b128\",fontsize =18)\n",
    "plt.plot(x_time, y_volume, linewidth=2, markersize=8, marker=\"o\",color=\"blue\")\n",
    "plt.xlabel(\"Timepoint (Days)\", fontsize=12)\n",
    "plt.ylabel(\"Tumor Volume (mm3)\", fontsize=12)\n",
    "\n",
    "\n",
    "# Save chart image (optional)\n",
    "# Note: put this before plt.show otherwise image will save as black box.\n",
    "plt.savefig(\"images/line_onemouse.png\")\n",
    "            \n",
    "# Display chart\n",
    "plt.show()\n"
   ]
  },
  {
   "cell_type": "code",
   "execution_count": 27,
   "metadata": {},
   "outputs": [
    {
     "data": {
      "image/png": "[encoded data removed]",
      "text/plain": [
       "<Figure size 864x576 with 1 Axes>"
      ]
     },
     "metadata": {
      "needs_background": "light"
     },
     "output_type": "display_data"
    }
   ],
   "source": [
    "# Generate a scatter plot of average tumor volume vs. mouse weight for the Capomulin regimen\n",
    "\n",
    "# Create dataframe for average tumor vol per mouse (Mouse ID)\n",
    "avg_tumorvol_capo_df = capo_df.groupby([\"Mouse ID\"]).mean()\n",
    "\n",
    "# Format chart\n",
    "# Notes: s=size of dots\n",
    "fig1, ax1 = plt.subplots(figsize=(12, 8))\n",
    "\n",
    "plt.scatter(avg_tumorvol_capo_df[\"Weight (g)\"], avg_tumorvol_capo_df[\"Tumor Volume (mm3)\"], s=100, color=\"blue\")\n",
    "plt.title(\"Average Tumor Volume vs. Mouse Weight for Capomulin\",fontsize =18)\n",
    "plt.xlabel(\"Mouse Weight (g)\", fontsize=12)\n",
    "plt.ylabel(\"Average Tumor Volume (mm3)\", fontsize=12)\n",
    "\n",
    "\n",
    "# Save chart image (optional)\n",
    "# Note: put this before plt.show otherwise image will save as black box.\n",
    "plt.savefig(\"images/scatter_capomulin.png\")\n",
    "            \n",
    "# Display chart\n",
    "plt.show()\n",
    "\n"
   ]
  },
  {
   "cell_type": "markdown",
   "metadata": {},
   "source": [
    "## Correlation and Regression"
   ]
  },
  {
   "cell_type": "code",
   "execution_count": 28,
   "metadata": {},
   "outputs": [
    {
     "name": "stdout",
     "output_type": "stream",
     "text": [
      "Capomulin: The correlation between mouse weight and average tumor volume is 0.84.\n"
     ]
    }
   ],
   "source": [
    "# Calculate the correlation coefficient and linear regression model \n",
    "# for mouse weight and average tumor volume for the Capomulin regimen\n",
    "\n",
    "# Calculate correlation coefficient\n",
    "# Note: Be sure to reference \"sts\" as it was initially referenced when importing scipy.stats as sts\n",
    "# Formula for Pearson correlation model is -- correlation = sts.pearson (thing 1, thing 2)\n",
    "correlation = sts.pearsonr(avg_tumorvol_capo_df[\"Weight (g)\"], avg_tumorvol_capo_df[\"Tumor Volume (mm3)\"])\n",
    "\n",
    "# Note: To remove rounding syntax just reference {correlation}.\n",
    "print(f\"Capomulin: The correlation between mouse weight and average tumor volume is {round(correlation[0],2)}.\")\n"
   ]
  },
  {
   "cell_type": "code",
   "execution_count": 29,
   "metadata": {},
   "outputs": [
    {
     "name": "stdout",
     "output_type": "stream",
     "text": [
      "slope:0.9544396890241045\n",
      "intercept:21.552160532685015\n",
      "rvalue:0.8419363424694718\n",
      "pvalue:1.3225722434712642e-07\n",
      "stderr:0.1275435903320134\n",
      "y = 0.95x + 21.55\n"
     ]
    }
   ],
   "source": [
    "# Calculate linear regression\n",
    "# Note: Be sure to reference \"sts\" as it was initially referenced when importing scipy.stats as sts\n",
    "# Formula for Linear regression model is -- correlation = sts.pearson (thing 1, thing 2)\n",
    "\n",
    "x_values = avg_tumorvol_capo_df['Weight (g)']\n",
    "y_values = avg_tumorvol_capo_df['Tumor Volume (mm3)']\n",
    "\n",
    "linreg = sts.linregress(avg_tumorvol_capo_df[\"Weight (g)\"], avg_tumorvol_capo_df[\"Tumor Volume (mm3)\"])\n",
    "\n",
    "(slope, intercept, rvalue, pvalue, stderr) = linregress(x_values, y_values)\n",
    "regress_values = avg_tumorvol_capo_df['Weight (g)'] * slope + intercept\n",
    "\n",
    "print(f\"slope:{slope}\")\n",
    "print(f\"intercept:{intercept}\")\n",
    "print(f\"rvalue:{rvalue}\")\n",
    "print(f\"pvalue:{pvalue}\")\n",
    "print(f\"stderr:{stderr}\")\n",
    "\n",
    "# Calculate line equation to put on top of chart below\n",
    "chart_equation = \"y = \" + str(round(slope,2)) + \"x + \" + str(round(intercept,2))\n",
    "print(chart_equation)\n"
   ]
  },
  {
   "cell_type": "code",
   "execution_count": 30,
   "metadata": {},
   "outputs": [
    {
     "name": "stdout",
     "output_type": "stream",
     "text": [
      "The linear regression results are: LinregressResult(slope=0.9544396890241045, intercept=21.552160532685015, rvalue=0.8419363424694718, pvalue=1.3225722434712642e-07, stderr=0.1275435903320134)\n"
     ]
    }
   ],
   "source": [
    "# Another way to print code above\n",
    "print(f\"The linear regression results are: {linreg}\")"
   ]
  },
  {
   "cell_type": "code",
   "execution_count": 31,
   "metadata": {},
   "outputs": [
    {
     "data": {
      "image/png": "[encoded data removed]",
      "text/plain": [
       "<Figure size 864x576 with 1 Axes>"
      ]
     },
     "metadata": {
      "needs_background": "light"
     },
     "output_type": "display_data"
    }
   ],
   "source": [
    "# Chart linear regression\n",
    "fig2, ax2 = plt.subplots(figsize=(12, 8))\n",
    "plt.scatter(x_values,y_values,s=100)\n",
    "# Extra code > plt.plot(x_values,regress_values,\"r-\")\n",
    "plt.title(\"Regression Plot of Mouse Weight Versus Average Tumor Volume\",fontsize =18)\n",
    "\n",
    "# Note: Two plots: one represents original data and one represents normalized line\n",
    "# Notes: red is \"r\" |\n",
    "plt.plot(avg_tumorvol_capo_df[\"Weight (g)\"], avg_tumorvol_capo_df[\"Tumor Volume (mm3)\"], \"o\", label=\"original data\")\n",
    "plt.plot(avg_tumorvol_capo_df[\"Weight (g)\"], linreg.intercept + linreg.slope*avg_tumorvol_capo_df[\"Weight (g)\"], \"r\", label=\"normalized\")\n",
    "\n",
    "\n",
    "plt.xlabel(\"Weight (gg)\",fontsize =12)\n",
    "plt.ylabel(\"Tumor Volume (mm3)\",fontsize =12)\n",
    "plt.legend()\n",
    "\n",
    "# Annotate linear regression on top of chart\n",
    "plt.annotate(chart_equation,xy=(22, 38),fontsize=18,color=\"red\")\n",
    "\n",
    "# Save chart image (optional)\n",
    "# Note: put this before plt.show otherwise image will save as black box.\n",
    "plt.savefig(\"images/linearregress_capomulin.png\")\n",
    "            \n",
    "# Display chart\n",
    "plt.show()\n"
   ]
  }
 ],
 "metadata": {
  "anaconda-cloud": {},
  "kernelspec": {
   "display_name": "Python 3",
   "language": "python",
   "name": "python3"
  },
  "language_info": {
   "codemirror_mode": {
    "name": "ipython",
    "version": 3
   },
   "file_extension": ".py",
   "mimetype": "text/x-python",
   "name": "python",
   "nbconvert_exporter": "python",
   "pygments_lexer": "ipython3",
   "version": "3.8.5"
  }
 },
 "nbformat": 4,
 "nbformat_minor": 4
}
