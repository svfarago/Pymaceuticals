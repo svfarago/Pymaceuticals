{
 "cells": [
  {
   "cell_type": "markdown",
   "metadata": {},
   "source": [
    "## Observations and Insights "
   ]
  },
  {
   "cell_type": "markdown",
   "metadata": {},
   "source": [
    "Insights and observations here"
   ]
  },
  {
   "cell_type": "code",
   "execution_count": 1,
   "metadata": {},
   "outputs": [],
   "source": [
    "# Dependencies and Setup\n",
    "import pandas as pd\n",
    "import numpy as np\n",
    "import matplotlib.pyplot as plt\n",
    "import scipy.stats as sts\n",
    "\n",
    "# Study data files\n",
    "mouse_metadata_path = \"data/Mouse_metadata.csv\"\n",
    "study_results_path = \"data/Study_results.csv\"\n",
    "\n",
    "# Read the mouse data and the study results\n",
    "mouse_metadata = pd.read_csv(mouse_metadata_path)\n",
    "study_results = pd.read_csv(study_results_path)\n",
    "\n",
    "# Enables chart interactivity in JN\n",
    "%matplotlib inline"
   ]
  },
  {
   "cell_type": "code",
   "execution_count": 2,
   "metadata": {},
   "outputs": [
    {
     "name": "stdout",
     "output_type": "stream",
     "text": [
      "     Mouse ID Drug Regimen   Sex  Age_months  Weight (g)  Timepoint  \\\n",
      "0        k403     Ramicane  Male          21          16          0   \n",
      "1        k403     Ramicane  Male          21          16          5   \n",
      "2        k403     Ramicane  Male          21          16         10   \n",
      "3        k403     Ramicane  Male          21          16         15   \n",
      "4        k403     Ramicane  Male          21          16         20   \n",
      "...       ...          ...   ...         ...         ...        ...   \n",
      "1888     z969     Naftisol  Male           9          30         25   \n",
      "1889     z969     Naftisol  Male           9          30         30   \n",
      "1890     z969     Naftisol  Male           9          30         35   \n",
      "1891     z969     Naftisol  Male           9          30         40   \n",
      "1892     z969     Naftisol  Male           9          30         45   \n",
      "\n",
      "      Tumor Volume (mm3)  Metastatic Sites  \n",
      "0              45.000000                 0  \n",
      "1              38.825898                 0  \n",
      "2              35.014271                 1  \n",
      "3              34.223992                 1  \n",
      "4              32.997729                 1  \n",
      "...                  ...               ...  \n",
      "1888           63.145652                 2  \n",
      "1889           65.841013                 3  \n",
      "1890           69.176246                 4  \n",
      "1891           70.314904                 4  \n",
      "1892           73.867845                 4  \n",
      "\n",
      "[1893 rows x 8 columns]\n"
     ]
    }
   ],
   "source": [
    "# Combine the data into a single dataset\n",
    "# Notes: pd.merge merges two data files and uses \"Mouse ID\" fields as unique ID to tie data sets together.\n",
    "# Notes: pandas dataframe = \"all_data_df\" so pull data and do analysis from this Pandas data set.\n",
    "# Notes: Outer join = return all rows from both tables, join from left table using keys that match to the right.\n",
    "\n",
    "## DATAFRAME\n",
    "all_data_df = pd.merge(mouse_metadata, study_results, how=\"outer\", on=[\"Mouse ID\", \"Mouse ID\"])\n",
    "#all_data_df.head()\n",
    "print(all_data_df)\n",
    "\n",
    "# Display the data table for preview"
   ]
  },
  {
   "cell_type": "markdown",
   "metadata": {},
   "source": [
    "### Cleaning the data for duplicates"
   ]
  },
  {
   "cell_type": "code",
   "execution_count": 11,
   "metadata": {},
   "outputs": [
    {
     "name": "stdout",
     "output_type": "stream",
     "text": [
      "249\n"
     ]
    }
   ],
   "source": [
    "# Checking the number of mice based on Mouse ID\n",
    "# Note: # total mice = 249\n",
    "\n",
    "## VARIABLE\n",
    "total_mice_df = len(all_data_df[\"Mouse ID\"].unique())\n",
    "print (total_mice_df)"
   ]
  },
  {
   "cell_type": "code",
   "execution_count": 12,
   "metadata": {},
   "outputs": [
    {
     "data": {
      "text/plain": [
       "g989    13\n",
       "v991    10\n",
       "y769    10\n",
       "z578    10\n",
       "u364    10\n",
       "        ..\n",
       "u153     1\n",
       "x226     1\n",
       "o848     1\n",
       "b447     1\n",
       "d133     1\n",
       "Name: Mouse ID, Length: 249, dtype: int64"
      ]
     },
     "execution_count": 12,
     "metadata": {},
     "output_type": "execute_result"
    }
   ],
   "source": [
    "# Count the number of times the value of Mouse ID is listed using .value.counts (vs just .counts)\n",
    "# Most should have a count of 1-10 timepoints. Anything higher indicates duplicate timepoint data\n",
    "all_data_df[\"Mouse ID\"].value_counts()"
   ]
  },
  {
   "cell_type": "code",
   "execution_count": 6,
   "metadata": {},
   "outputs": [
    {
     "data": {
      "text/html": [
       "<div>\n",
       "<style scoped>\n",
       "    .dataframe tbody tr th:only-of-type {\n",
       "        vertical-align: middle;\n",
       "    }\n",
       "\n",
       "    .dataframe tbody tr th {\n",
       "        vertical-align: top;\n",
       "    }\n",
       "\n",
       "    .dataframe thead th {\n",
       "        text-align: right;\n",
       "    }\n",
       "</style>\n",
       "<table border=\"1\" class=\"dataframe\">\n",
       "  <thead>\n",
       "    <tr style=\"text-align: right;\">\n",
       "      <th></th>\n",
       "      <th>Drug Regimen</th>\n",
       "      <th>Sex</th>\n",
       "      <th>Age_months</th>\n",
       "      <th>Weight (g)</th>\n",
       "      <th>Timepoint</th>\n",
       "      <th>Tumor Volume (mm3)</th>\n",
       "      <th>Metastatic Sites</th>\n",
       "    </tr>\n",
       "    <tr>\n",
       "      <th>Mouse ID</th>\n",
       "      <th></th>\n",
       "      <th></th>\n",
       "      <th></th>\n",
       "      <th></th>\n",
       "      <th></th>\n",
       "      <th></th>\n",
       "      <th></th>\n",
       "    </tr>\n",
       "  </thead>\n",
       "  <tbody>\n",
       "    <tr>\n",
       "      <th>g989</th>\n",
       "      <td>Propriva</td>\n",
       "      <td>Female</td>\n",
       "      <td>21</td>\n",
       "      <td>26</td>\n",
       "      <td>0</td>\n",
       "      <td>45.000000</td>\n",
       "      <td>0</td>\n",
       "    </tr>\n",
       "    <tr>\n",
       "      <th>g989</th>\n",
       "      <td>Propriva</td>\n",
       "      <td>Female</td>\n",
       "      <td>21</td>\n",
       "      <td>26</td>\n",
       "      <td>0</td>\n",
       "      <td>45.000000</td>\n",
       "      <td>0</td>\n",
       "    </tr>\n",
       "    <tr>\n",
       "      <th>g989</th>\n",
       "      <td>Propriva</td>\n",
       "      <td>Female</td>\n",
       "      <td>21</td>\n",
       "      <td>26</td>\n",
       "      <td>5</td>\n",
       "      <td>48.786801</td>\n",
       "      <td>0</td>\n",
       "    </tr>\n",
       "    <tr>\n",
       "      <th>g989</th>\n",
       "      <td>Propriva</td>\n",
       "      <td>Female</td>\n",
       "      <td>21</td>\n",
       "      <td>26</td>\n",
       "      <td>5</td>\n",
       "      <td>47.570392</td>\n",
       "      <td>0</td>\n",
       "    </tr>\n",
       "    <tr>\n",
       "      <th>g989</th>\n",
       "      <td>Propriva</td>\n",
       "      <td>Female</td>\n",
       "      <td>21</td>\n",
       "      <td>26</td>\n",
       "      <td>10</td>\n",
       "      <td>51.745156</td>\n",
       "      <td>0</td>\n",
       "    </tr>\n",
       "  </tbody>\n",
       "</table>\n",
       "</div>"
      ],
      "text/plain": [
       "         Drug Regimen     Sex  Age_months  Weight (g)  Timepoint  \\\n",
       "Mouse ID                                                           \n",
       "g989         Propriva  Female          21          26          0   \n",
       "g989         Propriva  Female          21          26          0   \n",
       "g989         Propriva  Female          21          26          5   \n",
       "g989         Propriva  Female          21          26          5   \n",
       "g989         Propriva  Female          21          26         10   \n",
       "\n",
       "          Tumor Volume (mm3)  Metastatic Sites  \n",
       "Mouse ID                                        \n",
       "g989               45.000000                 0  \n",
       "g989               45.000000                 0  \n",
       "g989               48.786801                 0  \n",
       "g989               47.570392                 0  \n",
       "g989               51.745156                 0  "
      ]
     },
     "execution_count": 6,
     "metadata": {},
     "output_type": "execute_result"
    }
   ],
   "source": [
    "# OPTION A (see option B at end for alternate code)\n",
    "# Get all the data for the duplicate mouse ID. \n",
    "# Note: This looks for g989 in Mouse ID and assigns it to \"badmice\".\n",
    "bad_mice_data_df = all_data_df.set_index(\"Mouse ID\")\n",
    "badmice_df = bad_mice_data_df.loc[\"g989\", :]\n",
    "badmice_df.head()"
   ]
  },
  {
   "cell_type": "code",
   "execution_count": 7,
   "metadata": {},
   "outputs": [
    {
     "data": {
      "text/html": [
       "<div>\n",
       "<style scoped>\n",
       "    .dataframe tbody tr th:only-of-type {\n",
       "        vertical-align: middle;\n",
       "    }\n",
       "\n",
       "    .dataframe tbody tr th {\n",
       "        vertical-align: top;\n",
       "    }\n",
       "\n",
       "    .dataframe thead th {\n",
       "        text-align: right;\n",
       "    }\n",
       "</style>\n",
       "<table border=\"1\" class=\"dataframe\">\n",
       "  <thead>\n",
       "    <tr style=\"text-align: right;\">\n",
       "      <th></th>\n",
       "      <th>Mouse ID</th>\n",
       "      <th>Drug Regimen</th>\n",
       "      <th>Sex</th>\n",
       "      <th>Age_months</th>\n",
       "      <th>Weight (g)</th>\n",
       "      <th>Timepoint</th>\n",
       "      <th>Tumor Volume (mm3)</th>\n",
       "      <th>Metastatic Sites</th>\n",
       "    </tr>\n",
       "  </thead>\n",
       "  <tbody>\n",
       "    <tr>\n",
       "      <th>0</th>\n",
       "      <td>k403</td>\n",
       "      <td>Ramicane</td>\n",
       "      <td>Male</td>\n",
       "      <td>21</td>\n",
       "      <td>16</td>\n",
       "      <td>0</td>\n",
       "      <td>45.000000</td>\n",
       "      <td>0</td>\n",
       "    </tr>\n",
       "    <tr>\n",
       "      <th>1</th>\n",
       "      <td>k403</td>\n",
       "      <td>Ramicane</td>\n",
       "      <td>Male</td>\n",
       "      <td>21</td>\n",
       "      <td>16</td>\n",
       "      <td>5</td>\n",
       "      <td>38.825898</td>\n",
       "      <td>0</td>\n",
       "    </tr>\n",
       "    <tr>\n",
       "      <th>2</th>\n",
       "      <td>k403</td>\n",
       "      <td>Ramicane</td>\n",
       "      <td>Male</td>\n",
       "      <td>21</td>\n",
       "      <td>16</td>\n",
       "      <td>10</td>\n",
       "      <td>35.014271</td>\n",
       "      <td>1</td>\n",
       "    </tr>\n",
       "    <tr>\n",
       "      <th>3</th>\n",
       "      <td>k403</td>\n",
       "      <td>Ramicane</td>\n",
       "      <td>Male</td>\n",
       "      <td>21</td>\n",
       "      <td>16</td>\n",
       "      <td>15</td>\n",
       "      <td>34.223992</td>\n",
       "      <td>1</td>\n",
       "    </tr>\n",
       "    <tr>\n",
       "      <th>4</th>\n",
       "      <td>k403</td>\n",
       "      <td>Ramicane</td>\n",
       "      <td>Male</td>\n",
       "      <td>21</td>\n",
       "      <td>16</td>\n",
       "      <td>20</td>\n",
       "      <td>32.997729</td>\n",
       "      <td>1</td>\n",
       "    </tr>\n",
       "  </tbody>\n",
       "</table>\n",
       "</div>"
      ],
      "text/plain": [
       "  Mouse ID Drug Regimen   Sex  Age_months  Weight (g)  Timepoint  \\\n",
       "0     k403     Ramicane  Male          21          16          0   \n",
       "1     k403     Ramicane  Male          21          16          5   \n",
       "2     k403     Ramicane  Male          21          16         10   \n",
       "3     k403     Ramicane  Male          21          16         15   \n",
       "4     k403     Ramicane  Male          21          16         20   \n",
       "\n",
       "   Tumor Volume (mm3)  Metastatic Sites  \n",
       "0           45.000000                 0  \n",
       "1           38.825898                 0  \n",
       "2           35.014271                 1  \n",
       "3           34.223992                 1  \n",
       "4           32.997729                 1  "
      ]
     },
     "execution_count": 7,
     "metadata": {},
     "output_type": "execute_result"
    }
   ],
   "source": [
    "# Remove bad mouse data from entire (all_data_df) and create a new clean dataframe (all_data_clean_df).\n",
    "# Note: # mice = 248 - and mouse G989 is still in the bucket but the duplicate data is gone.\n",
    "# POTATO - unsure if I need to reset the index below. g989 is part of the index so may need to reset it.\n",
    "\n",
    "clean_data_mice_df = bad_mice_data_df.drop(index = \"g989\")\n",
    "all_data_clean_df = clean_data_mice_df.reset_index()\n",
    "all_data_clean_df.head()\n",
    "#print (all_data_clean_df)"
   ]
  },
  {
   "cell_type": "code",
   "execution_count": 9,
   "metadata": {},
   "outputs": [
    {
     "name": "stdout",
     "output_type": "stream",
     "text": [
      "248\n"
     ]
    }
   ],
   "source": [
    "# Counts number of \"clean mice\" in the new dataframe (all_data_clean_df)\n",
    "# Note: # total mice = 249 | clean mice = 248\n",
    "clean_mice_df = len(all_data_clean_df[\"Mouse ID\"].unique())\n",
    "print (clean_mice_df)"
   ]
  },
  {
   "cell_type": "markdown",
   "metadata": {},
   "source": [
    "## Summary Statistics"
   ]
  },
  {
   "cell_type": "code",
   "execution_count": 14,
   "metadata": {},
   "outputs": [
    {
     "data": {
      "text/html": [
       "<div>\n",
       "<style scoped>\n",
       "    .dataframe tbody tr th:only-of-type {\n",
       "        vertical-align: middle;\n",
       "    }\n",
       "\n",
       "    .dataframe tbody tr th {\n",
       "        vertical-align: top;\n",
       "    }\n",
       "\n",
       "    .dataframe thead th {\n",
       "        text-align: right;\n",
       "    }\n",
       "</style>\n",
       "<table border=\"1\" class=\"dataframe\">\n",
       "  <thead>\n",
       "    <tr style=\"text-align: right;\">\n",
       "      <th></th>\n",
       "      <th>Mean</th>\n",
       "      <th>Median</th>\n",
       "      <th>Variance</th>\n",
       "      <th>Standard Deviation</th>\n",
       "      <th>SEM (Std Error)</th>\n",
       "    </tr>\n",
       "    <tr>\n",
       "      <th>Drug Regimen</th>\n",
       "      <th></th>\n",
       "      <th></th>\n",
       "      <th></th>\n",
       "      <th></th>\n",
       "      <th></th>\n",
       "    </tr>\n",
       "  </thead>\n",
       "  <tbody>\n",
       "    <tr>\n",
       "      <th>Capomulin</th>\n",
       "      <td>40.675741</td>\n",
       "      <td>41.557809</td>\n",
       "      <td>24.947764</td>\n",
       "      <td>4.994774</td>\n",
       "      <td>0.329346</td>\n",
       "    </tr>\n",
       "    <tr>\n",
       "      <th>Ceftamin</th>\n",
       "      <td>52.591172</td>\n",
       "      <td>51.776157</td>\n",
       "      <td>39.290177</td>\n",
       "      <td>6.268188</td>\n",
       "      <td>0.469821</td>\n",
       "    </tr>\n",
       "    <tr>\n",
       "      <th>Infubinol</th>\n",
       "      <td>52.884795</td>\n",
       "      <td>51.820584</td>\n",
       "      <td>43.128684</td>\n",
       "      <td>6.567243</td>\n",
       "      <td>0.492236</td>\n",
       "    </tr>\n",
       "    <tr>\n",
       "      <th>Ketapril</th>\n",
       "      <td>55.235638</td>\n",
       "      <td>53.698743</td>\n",
       "      <td>68.553577</td>\n",
       "      <td>8.279709</td>\n",
       "      <td>0.603860</td>\n",
       "    </tr>\n",
       "    <tr>\n",
       "      <th>Naftisol</th>\n",
       "      <td>54.331565</td>\n",
       "      <td>52.509285</td>\n",
       "      <td>66.173479</td>\n",
       "      <td>8.134708</td>\n",
       "      <td>0.596466</td>\n",
       "    </tr>\n",
       "  </tbody>\n",
       "</table>\n",
       "</div>"
      ],
      "text/plain": [
       "                   Mean     Median   Variance  Standard Deviation  \\\n",
       "Drug Regimen                                                        \n",
       "Capomulin     40.675741  41.557809  24.947764            4.994774   \n",
       "Ceftamin      52.591172  51.776157  39.290177            6.268188   \n",
       "Infubinol     52.884795  51.820584  43.128684            6.567243   \n",
       "Ketapril      55.235638  53.698743  68.553577            8.279709   \n",
       "Naftisol      54.331565  52.509285  66.173479            8.134708   \n",
       "\n",
       "              SEM (Std Error)  \n",
       "Drug Regimen                   \n",
       "Capomulin            0.329346  \n",
       "Ceftamin             0.469821  \n",
       "Infubinol            0.492236  \n",
       "Ketapril             0.603860  \n",
       "Naftisol             0.596466  "
      ]
     },
     "execution_count": 14,
     "metadata": {},
     "output_type": "execute_result"
    }
   ],
   "source": [
    "# Generate a summary statistics table of mean, median, variance, standard deviation, \n",
    "# and SEM (standard error) of the tumor volume for each regimen\n",
    "\n",
    "# Use groupby and summary statistical methods to calculate the \n",
    "# following properties of each drug regimen: \n",
    "# mean, median, variance, standard deviation, and SEM of the tumor volume. \n",
    "# Assemble the resulting series into a single summary dataframe.\n",
    "\n",
    "\n",
    "summarydrug_df = all_data_clean_df.groupby(\"Drug Regimen\")\n",
    "#summarydrug.head()\n",
    "\n",
    "# Variables for data\n",
    "tumor_mean = summarydrug_df [\"Tumor Volume (mm3)\"].mean()\n",
    "tumor_median = summarydrug_df [\"Tumor Volume (mm3)\"].median()\n",
    "tumor_variance = summarydrug_df [\"Tumor Volume (mm3)\"].var()\n",
    "tumor_std = summarydrug_df [\"Tumor Volume (mm3)\"].std()\n",
    "tumor_sem = summarydrug_df [\"Tumor Volume (mm3)\"].sem()\n",
    "\n",
    "\n",
    "# Summarization\n",
    "summary_tumor_vol = pd.DataFrame({\"Mean\": tumor_mean, \n",
    "                                  \"Median\": tumor_median,\n",
    "                                  \"Variance\": tumor_variance,\n",
    "                                  \"Standard Deviation\": tumor_std, \n",
    "                                  \"SEM (Std Error)\": tumor_sem})\n",
    "\n",
    "summary_tumor_vol.head()"
   ]
  },
  {
   "cell_type": "code",
   "execution_count": null,
   "metadata": {},
   "outputs": [],
   "source": [
    "# Generate a summary statistics table of mean, median, variance, standard deviation, \n",
    "# and SEM of the tumor volume for each regiment\n",
    "\n",
    "# Using the aggregation method, produce the same summary statistics in a single line\n",
    "\n",
    "#POTATO - same as cell above but use \"aggregation method\"\n",
    "\n",
    "#------------working code below\n",
    "#ref --- https://www.shanelynn.ie/summarising-aggregation-and-grouping-data-in-python-pandas/\n",
    "#summarydrug_df[summarydrug_df[\"Drug Regimen\"]==\"??\".groupby (\"???.agg(\n",
    "\n",
    "#tumor_mean = pd.namedAgg [\"Tumor Volume (mm3)\"].mean()\n",
    "                                                             \n",
    "                                                             \n",
    "#tumor_median = summarydrug_df [\"Tumor Volume (mm3)\"].median()\n",
    "#tumor_variance = summarydrug_df [\"Tumor Volume (mm3)\"].var()\n",
    "#tumor_std = summarydrug_df [\"Tumor Volume (mm3)\"].std()\n",
    "#tumor_sem = summarydrug_df [\"Tumor Volume (mm3)\"].sem()\n",
    "\n",
    "\n",
    "# Summarization\n",
    "#summary_tumor_vol = pd.DataFrame({\"Mean\": tumor_mean, \n",
    "                                  #\"Median\": tumor_median,\n",
    "                                  #\"Variance\": tumor_variance,\n",
    "                                  #\"Standard Deviation\": tumor_std, \n",
    "                                  #\"SEM (Std Error)\": tumor_sem})\n",
    "\n",
    "#summary_tumor_vol.head()\n",
    "\n"
   ]
  },
  {
   "cell_type": "markdown",
   "metadata": {},
   "source": [
    "## Bar and Pie Charts"
   ]
  },
  {
   "cell_type": "code",
   "execution_count": 96,
   "metadata": {},
   "outputs": [
    {
     "data": {
      "image/png": "[encoded data removed]",
      "text/plain": [
       "<Figure size 432x288 with 1 Axes>"
      ]
     },
     "metadata": {
      "needs_background": "light"
     },
     "output_type": "display_data"
    }
   ],
   "source": [
    "# Generate a bar plot showing the total number of measurements taken on each drug regimen.\n",
    "# Note: PANDAS bar\n",
    "# Formatting options: Width = width of bars, zorder = brings lines to front (bars) or back (gridlines)\n",
    "\n",
    "# Identify data\n",
    "bar_plot = all_data_clean_df[\"Drug Regimen\"].value_counts().plot.bar(width=.8, zorder=3)\n",
    "\n",
    "# Format chart\n",
    "bar_plot.set_xlabel(\"Drug Regimen\")\n",
    "bar_plot.set_ylabel(\"# Measurements\")\n",
    "bar_plot.set_title(\"Measurements for Each Drug Regimen\")\n",
    "\n",
    "# Print chart\n",
    "bar_plot.grid(zorder=0)\n"
   ]
  },
  {
   "cell_type": "code",
   "execution_count": 97,
   "metadata": {},
   "outputs": [
    {
     "data": {
      "image/png": "[encoded data removed]",
      "text/plain": [
       "<Figure size 432x288 with 1 Axes>"
      ]
     },
     "metadata": {
      "needs_background": "light"
     },
     "output_type": "display_data"
    },
    {
     "data": {
      "text/plain": [
       "<Figure size 432x288 with 0 Axes>"
      ]
     },
     "metadata": {},
     "output_type": "display_data"
    }
   ],
   "source": [
    "# Generate a bar plot showing the total number of measurements taken on each drug regimen using pyplot.\n",
    "# Note: PYPLOT bar\n",
    "\n",
    "# Identify data\n",
    "measurecounts = all_data_clean_df[\"Drug Regimen\"].value_counts()\n",
    "\n",
    "# Sets the x axis to the length of the Drug Regimen in the dataframe all_data_clean_df\n",
    "x_axis = np.arange(len(measurecounts))\n",
    "\n",
    "# Create bar chart.\n",
    "# Note: Measurecounts (drug regimen) as x and corresponding counts in y.\n",
    "# Note: Include some formatting on width and use zorder to bring bars to front.\n",
    "plt.bar(x_axis, measurecounts, width = .8, zorder=3)\n",
    "plt.grid(zorder=0)\n",
    "\n",
    "# Tell matplotlib where we would like to place each of our x axis headers\n",
    "tick_locations = [value for value in x_axis]\n",
    "plt.xticks(tick_locations, measurecounts.index.values)\n",
    "\n",
    "# Rotate tick marks 90 degrees for visibility\n",
    "plt.xticks(rotation=90)\n",
    "\n",
    "# Axes labels\n",
    "plt.xlabel (\"Drug Regimen\")\n",
    "plt.ylabel (\"# Measurements\")\n",
    "plt.title (\"Measurements for Each Drug Regimen\")\n",
    "\n",
    "# Print chart\n",
    "plt.show()\n",
    "\n",
    "# Save chart image (optional)\n",
    "plt.savefig(\"images/bar_pyplot.png\")\n",
    "\n",
    "# POTATO - CONFIRM BELOW BAR CHART MATCHES ONE ABOVE\n"
   ]
  },
  {
   "cell_type": "code",
   "execution_count": 66,
   "metadata": {},
   "outputs": [
    {
     "data": {
      "image/png": "[encoded data removed]",
      "text/plain": [
       "<Figure size 720x360 with 1 Axes>"
      ]
     },
     "metadata": {},
     "output_type": "display_data"
    }
   ],
   "source": [
    "# Generate a pie plot showing the distribution of female versus male mice using pandas.\n",
    "# PANDAS Pie\n",
    "\n",
    "# Identify data\n",
    "pie_data_df = all_data_clean_df[\"Sex\"].value_counts()\n",
    "\n",
    "# Chart and format data\n",
    "# Note: Chart start angle, chart figure: size, font, label format, title.\n",
    "pie_plot = pie_data_df.plot.pie (startangle=90, figsize=(10,5), fontsize=10, autopct=\"%1.2f%%\", title=\"Male vs Female Mouse Distribution\")\n",
    "\n",
    "# Removes \"dangling\" Y axis label which looks odd on this chart.\n",
    "pie_plot.set_ylabel(\"\")\n",
    "\n",
    "# Displays chart \n",
    "# Note: Omit this line and output as well as chart displays\n",
    "plt.show()\n",
    "\n",
    "# POTATO Question: how to increase the title font size of the chart\n"
   ]
  },
  {
   "cell_type": "code",
   "execution_count": 81,
   "metadata": {},
   "outputs": [
    {
     "data": {
      "image/png": "[encoded data removed]",
      "text/plain": [
       "<Figure size 432x288 with 1 Axes>"
      ]
     },
     "metadata": {},
     "output_type": "display_data"
    },
    {
     "data": {
      "text/plain": [
       "<Figure size 432x288 with 0 Axes>"
      ]
     },
     "metadata": {},
     "output_type": "display_data"
    }
   ],
   "source": [
    "# Generate a pie plot showing the distribution of female versus male mice using pyplot\n",
    "# PYPLOT Pie\n",
    "\n",
    "# Identify data\n",
    "pie_data_df = all_data_clean_df[\"Sex\"].value_counts()\n",
    "\n",
    "# Chart and format data\n",
    "# Note: Use .plt.pie and then call use either option A or B below... \n",
    "\n",
    "#[Option A] Specify code for pie chart labels and formatting---\n",
    "sex = [\"male\", \"female\"]\n",
    "colors = [\"lightblue\", \"pink\"]\n",
    "explode = (0.1,0)\n",
    "plt.pie(pie_data_df, labels=sex, colors=colors, explode = explode, startangle=90, autopct=\"%1.2f%%\")\n",
    "\n",
    "#[Option B] Rely on variables for labels and index values to pull from dataframe and auto assign color---\n",
    "#plt.pie(pie_data_df, labels=pie_data_df.index.values, startangle=90, autopct=\"%1.2f%%\")\n",
    "\n",
    "plt.title(\"Male vs Female Mouse Distribution\")\n",
    "\n",
    "# Display chart\n",
    "# Note: Omit this line and output as well as chart displays\n",
    "plt.show()\n",
    "\n",
    "# Save chart image (optional)\n",
    "plt.savefig(\"images/pie_pyplot.png\")\n",
    "\n",
    "\n",
    "#POTATO - how to remove \"figure size\" below chart?"
   ]
  },
  {
   "cell_type": "markdown",
   "metadata": {},
   "source": [
    "## Quartiles, Outliers and Boxplots"
   ]
  },
  {
   "cell_type": "code",
   "execution_count": null,
   "metadata": {},
   "outputs": [],
   "source": [
    "# Calculate the final tumor volume of each mouse across four of the treatment regimens:  \n",
    "# Capomulin, Ramicane, Infubinol, and Ceftamin\n",
    "\n",
    "# Start by getting the last (greatest) timepoint for each mouse\n",
    "\n",
    "\n",
    "# Merge this group df with the original dataframe to get the tumor volume at the last timepoint\n"
   ]
  },
  {
   "cell_type": "code",
   "execution_count": null,
   "metadata": {},
   "outputs": [],
   "source": [
    "# Put treatments into a list for for loop (and later for plot labels)\n",
    "\n",
    "\n",
    "# Create empty list to fill with tumor vol data (for plotting)\n",
    "\n",
    "\n",
    "# Calculate the IQR and quantitatively determine if there are any potential outliers. \n",
    "\n",
    "    \n",
    "    # Locate the rows which contain mice on each drug and get the tumor volumes\n",
    "    \n",
    "    \n",
    "    # add subset \n",
    "    \n",
    "    \n",
    "    # Determine outliers using upper and lower bounds\n",
    "    "
   ]
  },
  {
   "cell_type": "code",
   "execution_count": null,
   "metadata": {},
   "outputs": [],
   "source": [
    "# Generate a box plot of the final tumor volume of each mouse across four regimens of interest\n"
   ]
  },
  {
   "cell_type": "markdown",
   "metadata": {},
   "source": [
    "## Line and Scatter Plots"
   ]
  },
  {
   "cell_type": "code",
   "execution_count": null,
   "metadata": {},
   "outputs": [],
   "source": [
    "# Generate a line plot of tumor volume vs. time point for a mouse treated with Capomulin\n"
   ]
  },
  {
   "cell_type": "code",
   "execution_count": null,
   "metadata": {},
   "outputs": [],
   "source": [
    "# Generate a scatter plot of average tumor volume vs. mouse weight for the Capomulin regimen\n"
   ]
  },
  {
   "cell_type": "markdown",
   "metadata": {},
   "source": [
    "## Correlation and Regression"
   ]
  },
  {
   "cell_type": "code",
   "execution_count": null,
   "metadata": {},
   "outputs": [],
   "source": [
    "# Calculate the correlation coefficient and linear regression model \n",
    "# for mouse weight and average tumor volume for the Capomulin regimen\n"
   ]
  },
  {
   "cell_type": "markdown",
   "metadata": {},
   "source": [
    "### POTATO CODE: Keep for reference"
   ]
  },
  {
   "cell_type": "code",
   "execution_count": null,
   "metadata": {},
   "outputs": [],
   "source": [
    "%who_ls\n",
    "\n",
    "#Lists"
   ]
  },
  {
   "cell_type": "code",
   "execution_count": null,
   "metadata": {},
   "outputs": [],
   "source": [
    "# OPTION B\n",
    "## KEEP - good code below but it doesn't fit the homework. It just drops part of the data for mouse g989 but keeps the mouse in the dataset.\n",
    "## Keep for future reference if you want to pull out some data within a record but not remove the entire record.\n",
    "#-------------------------\n",
    "# Create a new dataframe that has the duplicate data removed from the original dataframe (all_data).\n",
    "# Note: Code looks for duplicates in Mouse ID and Timepoint and put results in new dataframe (all_clean_data).\n",
    "\n",
    "## DATAFRAME - all_data_clean_df\n",
    "#all_data_clean_df = all_data_df.drop_duplicates(subset=[\"Mouse ID\", \"Timepoint\"])\n",
    "#print (all_data_clean_df)\n",
    "\n",
    "# Note: Can also use this code below to confirm g989 is not in the cleaned data (it shows up in the original data set above)\n",
    "# all_data_clean[\"Mouse ID\"].value_counts()"
   ]
  }
 ],
 "metadata": {
  "anaconda-cloud": {},
  "kernelspec": {
   "display_name": "Python 3",
   "language": "python",
   "name": "python3"
  },
  "language_info": {
   "codemirror_mode": {
    "name": "ipython",
    "version": 3
   },
   "file_extension": ".py",
   "mimetype": "text/x-python",
   "name": "python",
   "nbconvert_exporter": "python",
   "pygments_lexer": "ipython3",
   "version": "3.8.5"
  }
 },
 "nbformat": 4,
 "nbformat_minor": 4
}
